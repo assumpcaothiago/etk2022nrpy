{
 "cells": [
  {
   "cell_type": "markdown",
   "id": "7608d99e",
   "metadata": {},
   "source": [
    "<script async src=\"https://www.googletagmanager.com/gtag/js?id=UA-59152712-8\"></script>\n",
    "<script>\n",
    "  window.dataLayer = window.dataLayer || [];\n",
    "  function gtag(){dataLayer.push(arguments);}\n",
    "  gtag('js', new Date());\n",
    "\n",
    "  gtag('config', 'UA-59152712-8');\n",
    "</script>\n",
    "\n",
    "## European Einstein Toolkit Meeting 2022: `NRPy+` tutorial\n",
    "\n",
    "### Author: Thiago Assumpção\n",
    "\n",
    "***For an introduction to Jupyter Notebooks, see [Jupyter Notebook Basics Guide](https://jupyter-notebook.readthedocs.io/en/stable/examples/Notebook/Notebook%20Basics.html).***\n",
    "\n",
    "***For the complete NRPy+ tutorial, see [NRPy+, SENRv2, and the NRPy+ Jupyter Tutorial](https://github.com/zachetienne/nrpytutorial).***\n",
    "\n",
    "\n",
    "### PART 1: \n",
    "+ [Tutorial: 1D Elliptic solver in Python](Tutorial-1D-Elliptic-solver-in-Python.ipynb)\n",
    "\n",
    "### PART 2:  \n",
    "+ [Tutorial: A survey of some NRPy features](Tutorial-A-survey-of-some-NRPy-features.ipynb)\n",
    "\n",
    "### PART 3:  [NRPyElliptic](https://arxiv.org/abs/2111.02424)\n",
    "+ [Tutorial: Basic equations](Tutorial-NRPyElliptic_BasicEquations.ipynb)\n",
    "+ [Tutorial: Start-to-finish example](Tutorial-Start_to_Finish-NRPyElliptic.ipynb)\n",
    "+ [NRPyEllipticET](https://github.com/assumpcaothiago/NRPyElliptic/tree/main/NRPyEllipticET): Einstein Toolkit thorn version\n",
    "\n",
    "### Bonus:  An application of [NRPyLaTeX](https://pypi.org/project/nrpylatex/)\n",
    "+ [Tutorial: Hamiltonian and momentum constraint equations using NRPyLaTeX](Tutorial-Hamiltonian-and-momentum-constraint-equations-using-NRPyLaTeX.ipynb)"
   ]
  }
 ],
 "metadata": {
  "kernelspec": {
   "display_name": "Python 3 (ipykernel)",
   "language": "python",
   "name": "python3"
  },
  "language_info": {
   "codemirror_mode": {
    "name": "ipython",
    "version": 3
   },
   "file_extension": ".py",
   "mimetype": "text/x-python",
   "name": "python",
   "nbconvert_exporter": "python",
   "pygments_lexer": "ipython3",
   "version": "3.7.13"
  }
 },
 "nbformat": 4,
 "nbformat_minor": 5
}
