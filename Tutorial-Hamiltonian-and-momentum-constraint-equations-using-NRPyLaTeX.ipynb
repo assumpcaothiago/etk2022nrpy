{
 "cells": [
  {
   "cell_type": "markdown",
   "id": "studied-jacksonville",
   "metadata": {},
   "source": [
    "<script async src=\"https://www.googletagmanager.com/gtag/js?id=UA-59152712-8\"></script>\n",
    "<script>\n",
    "  window.dataLayer = window.dataLayer || [];\n",
    "  function gtag(){dataLayer.push(arguments);}\n",
    "  gtag('js', new Date());\n",
    "\n",
    "  gtag('config', 'UA-59152712-8');\n",
    "</script>\n",
    "\n",
    "# Hamiltonian and momentum constraint equations using NRPyLaTeX \n",
    "\n",
    "## Author: Thiago Assumpção\n",
    "\n",
    "\n",
    "## In this tutorial, we check that the UIUC metric satisfies the Hamiltonian and momentum constraint equations. We begin with the manual approach, and subsequently demonstrate how to reproduce the results using NRPyLaTeX."
   ]
  },
  {
   "cell_type": "markdown",
   "id": "smart-climb",
   "metadata": {},
   "source": [
    "<a id='toc'></a>\n",
    "\n",
    "# Table of Contents\n",
    "$$\\label{toc}$$\n",
    "\n",
    "This notebook is organized as follows\n",
    "\n",
    "1. [Step 1](#initializenrpy): Initialize core Python/NRPy+ modules\n",
    "1. [Step 2](#uiucbh): UIUC metric\n",
    "1. [Step 3](#constraints): Constraint equations with `NRPyLaTeX`\n",
    "1. [Step 4](#latex_pdf_output): Output this notebook to $\\LaTeX$-formatted PDF file"
   ]
  },
  {
   "cell_type": "markdown",
   "id": "empty-validity",
   "metadata": {},
   "source": [
    "<a id='initializenrpy'></a>\n",
    "\n",
    "# Step 1: Initialize core Python/NRPy+ modules \\[Back to [top](#toc)\\]\n",
    "$$\\label{initializenrpy}$$"
   ]
  },
  {
   "cell_type": "code",
   "execution_count": 1,
   "id": "leading-seller",
   "metadata": {},
   "outputs": [],
   "source": [
    "import sympy as sp                       # SymPy: The Python computer algebra package upon which NRPy+ depends\n",
    "import indexedexp as ixp                 # NRPy+: Symbolic indexed expression (e.g., tensors, vectors, etc.) support\n",
    "import NRPy_param_funcs as par           # NRPy+: Parameter interface\n",
    "from UnitTesting.assert_equal import check_zero # NRPy+: unit testing suite"
   ]
  },
  {
   "cell_type": "code",
   "execution_count": 2,
   "id": "dressed-shopper",
   "metadata": {},
   "outputs": [
    {
     "name": "stdout",
     "output_type": "stream",
     "text": [
      "nrpylatex==1.2.2\r\n"
     ]
    }
   ],
   "source": [
    "!pip install nrpylatex~=1.2 > /dev/null\n",
    "!pip freeze | grep nrpylatex\n",
    "\n",
    "from nrpylatex import parse_latex\n",
    "%load_ext nrpylatex.extension"
   ]
  },
  {
   "cell_type": "markdown",
   "id": "weird-rolling",
   "metadata": {},
   "source": [
    "<a id='uiucbh'></a>\n",
    "\n",
    "# Step 2: UIUC metric \\[Back to [top](#toc)\\]\n",
    "$$\\label{uiucbh}$$"
   ]
  },
  {
   "cell_type": "markdown",
   "id": "cf360e4d",
   "metadata": {},
   "source": [
    "Here, we denote the Boyer-Lindquist coordinates by ($r_{\\rm BL}$, $\\theta$, $\\phi$). After two successive radial transformations (introduced by [Brandt & Seidel, PRD 54 1403, 1996](https://arxiv.org/abs/gr-qc/9601010)) and [Liu, Etienne, & Shapiro, PRD 80 121503, 2009](https://arxiv.org/abs/1001.4077)), the spatial sector of the Kerr metric takes the following form:\n",
    "\n",
    "$$\n",
    "^{(3)}ds^2 = \\gamma_{ij}dx^i dx^j = \\frac{ \\Sigma (r + \\frac{r_{+}}{4})^2}{ r^3 (r_{BL} - r_{-} )} dr^2\n",
    "           + \\Sigma d\\theta^2  +  \\frac{A \\sin^2\\theta}{\\Sigma} d\\phi^2 \\,,\n",
    "$$\n",
    "\n",
    "where\n",
    "\n",
    "$$\n",
    "\\begin{aligned}\n",
    "r_{\\pm}  &= M \\pm \\sqrt{M^2 - a^2} \\,, \\\\\n",
    "r_{BL} &= r\\left(1 + \\frac{ r_{+} }{4r}\\right)^2 \\,, \\\\\n",
    "\\Sigma &= r_{BL}^2 + a^2 \\cos^2 \\theta \\,, \\\\\n",
    "\\Delta &= r_{BL}^2 - 2 M r_{BL} + a^2 \\,, \\\\\n",
    "A &= (r_{BL}^2 + a^2)^2 - \\Delta a^2 \\sin^2 \\theta  \\,.\n",
    "\\end{aligned}\n",
    "$$\n",
    "\n",
    "The conformal factor is given by (see, e.g., Eq. (2) in [Liu, Etienne, & Shapiro, PRD 80 121503, 2009](https://arxiv.org/abs/1001.4077) or Eq. (4a) in [Brandt & Seidel, PRD 54 1403, 1996](https://arxiv.org/abs/gr-qc/9601010)):\n",
    "\n",
    "$$\n",
    "\\psi^4 = \\frac{A}{\\Sigma} \\,.\n",
    "$$\n",
    "\n",
    "The lapse function and the non-vanishing component of the shift vector are given by:\n",
    "$$\n",
    "\\begin{aligned}\n",
    "\\alpha &= \\sqrt{ \\frac{\\Delta \\Sigma} {A} } \\,, \\\\\n",
    "\\beta^{\\phi} &= - \\frac{ 2aM r_{BL} } {A} \\,. \\\\\n",
    "\\end{aligned}\n",
    "$$\n",
    "\n"
   ]
  },
  {
   "cell_type": "markdown",
   "id": "dated-designation",
   "metadata": {},
   "source": [
    "<a id='constraints'></a>\n",
    "\n",
    "# Step 3: Constraint equations with `NRPyLaTeX` \\[Back to [top](#toc)\\]\n",
    "$$\\label{constraints}$$"
   ]
  },
  {
   "cell_type": "markdown",
   "id": "7051240d",
   "metadata": {},
   "source": [
    "In this section, we use `NRPyLaTeX` to compute the conformal constraint equations with the above metric. We begin by inserting the metric element, the ADM variables, the conformal factor, and the conformal metric. We then construct the extrinsic curvatures and conformal Ricci scalar, and compute the constraint equations:"
   ]
  },
  {
   "cell_type": "code",
   "execution_count": 3,
   "id": "85240720",
   "metadata": {
    "scrolled": false
   },
   "outputs": [
    {
     "data": {
      "text/latex": [
       "\\[\n",
       "%% define LES coordinates\n",
       "% coord [r, \\theta, \\phi]\n",
       "\n",
       "%% define any relevant constant(s)\n",
       "% define a M --const\n",
       "\n",
       "%% initialize every component of the metric to zero\n",
       "% define gammaDD --dim 3 --zero\n",
       "\n",
       "%% initialize every component of the conformal metric to zero\n",
       "% define gammatildeDD --dim 3 --zero\n",
       "\n",
       "%% initialize extrinsic curvature tensor KDD\n",
       "% define KDD --dim 3 --zero\n",
       "\n",
       "%% initialize shift vector betaU\n",
       "% define betaU --dim 3 --zero\n",
       "\n",
       "%% initialize momentum constraint violation vector MU\n",
       "% define mU --dim 3 --zero\n",
       "\n",
       "%% define string replacements\n",
       "% srepl \"rp\"  -> \"\\text{rp}\"\n",
       "% srepl \"rm\"  -> \"\\text{rm}\"\n",
       "% srepl \"r_{-}\"  -> \"\\text{rp}\"\n",
       "% srepl \"r_{+}\"  -> \"\\text{rm}\"\n",
       "% srepl \"rBL\" -> \"\\text{rBL}\"\n",
       "% srepl \"r_{BL}\" -> \"\\text{rBL}\"\n",
       "\n",
       "% ignore \"\\begin{align}\" \"\\end{align}\"\n",
       "\\begin{align}\n",
       "%% Define quantities that are used to construct the metric elements\n",
       "r_{+}  &= M + \\sqrt{M^2 - a^2} \\\\ %% Boyer-Lindquist outer horizon\n",
       "r_{-}  &= M - \\sqrt{M^2 - a^2} \\\\ %% Boyer-Lindquist inner horizon\n",
       "r_{BL} &= r\\left(1 + \\frac{ r_{+} }{4r}\\right)^2 \\\\\n",
       "\\Sigma &= r_{BL}^2 + a^2 \\cos^2 \\theta \\\\\n",
       "\\Delta &= r_{BL}^2 - 2 M r_{BL} + a^2 \\\\\n",
       "A &= (r_{BL}^2 + a^2)^2 - \\Delta a^2 \\sin^2 \\theta \\\\\n",
       "%% Define metric elements\n",
       "\\gamma_{r r} &= \\frac{ \\Sigma (r + \\frac{r_{+}}{4})^2}{ r^3 (r_{BL} - r_{-} )} \\\\ %% \\gamma_{r r} = g_{0 0}\n",
       "\\gamma_{\\theta\\theta} &= \\Sigma \\\\\n",
       "\\gamma_{\\phi\\phi} &= \\frac{A \\sin^2\\theta}{\\Sigma} \\\\\n",
       "%% generate inverse gammaUU, determinant det(gammaDD), and connection GammaUDD\n",
       "% assign gammaDD --metric\n",
       "%% Define ADM variables\n",
       "\\alpha &= \\sqrt{ \\frac{\\Delta \\Sigma} {A} } \\\\\n",
       "\\beta^{\\phi} &= - \\frac{ 2aM r_{BL} } {A} \\\\\n",
       "%% Define conformal factor\n",
       "\\psi &= \\left(\\frac{A}{\\Sigma}\\right)^{1/4} \\\\\n",
       "%% Define conformal metric\n",
       "\\tilde{\\gamma}_{ij} &= \\psi^{{-4}} \\gamma_{ij} \\\\\n",
       "%% generate inverse gammatildeUU, determinant det(gammatildeDD), and connection GammatildeUDD\n",
       "% assign gammatildeDD --metric\n",
       "%% Define extrinsic curvature\n",
       "K_{ij} &= \\frac{1}{2\\alpha} \\left( \\nabla_{i}\\beta_{j} + \\nabla_{j}\\beta_{i} \\right) \\\\\n",
       "%% Trace of extrinsic curvature\n",
       "K &= \\gamma^{ij} K_{ij}  \\\\\n",
       "%% Tracefree extrinsic curvature\n",
       "A_{ij} &= K_{ij} - \\frac{1}{3} K \\gamma_{ij} \\\\\n",
       "%% Conformal, tracefree extrinsic curvature\n",
       "\\tilde{A}_{ij} &= \\psi^2 A_{ij} \\\\\n",
       "%% Ricci tensor\n",
       "\\tilde{R}_{ij} &= -\\frac{1}{2} \\tilde{\\gamma}^{kl} ( \\tilde{\\gamma}_{ij,lk} \n",
       "                  + \\tilde{\\gamma}_{kl,ji} - \\tilde{\\gamma}_{kj,li} - \\tilde{\\gamma}_{il,jk})\n",
       "                  + \\tilde{\\gamma}^{kl} ( \\tilde{\\Gamma}^{m}_{il} \\tilde{\\Gamma}_{mkj} \n",
       "                  - \\tilde{\\Gamma}^{m}_{ij} \\tilde{\\Gamma}_{mkl}  ) \\\\\n",
       "%% Ricci scalar\n",
       "\\tilde{R} &= \\tilde{\\gamma}^{ij} \\tilde{R}_{ij} \\\\\n",
       "%% Hamiltonian contraint violation\n",
       "% srepl \"\\tilde{\\nabla}^2\" -> \" \\tilde{\\gamma}^{ij} \\tilde{\\nabla}_i \\tilde{\\nabla}_j\"\n",
       "H &= \\tilde{\\nabla}^2 \\psi - \\frac{\\psi \\tilde{R}}{8} - \\frac{ \\psi^5 K^{{2}} }{12} \n",
       "   + \\frac{\\tilde{A}_{ij}\\tilde{A}^{ij}}{8\\psi^7} \\\\\n",
       "%% Momentum constraint violation\n",
       "%% srepl \"\\tilde{\\nabla}^i\" -> \"\\tilde{\\gamma}^{ij} \\tilde{\\nabla}_j\"\n",
       "m^{i} &= \\tilde{\\nabla}_j \\tilde{A}^{ij} - \\frac{2}{3} \\psi^6 \\tilde{\\gamma}^{ij} \\tilde{\\nabla}_j K\n",
       "\\end{align}\n",
       "\\]"
      ],
      "text/plain": [
       "('rm',\n",
       " 'RtildeDD',\n",
       " 'Rtilde',\n",
       " 'AtildeUU',\n",
       " 'gammadet',\n",
       " 'gammatildeDD',\n",
       " 'psi_dDD',\n",
       " 'GammatildeDDD',\n",
       " 'psi_dD',\n",
       " 'GammaUDD',\n",
       " 'betaU',\n",
       " 'rp',\n",
       " 'ADD',\n",
       " 'AtildeDD',\n",
       " 'gammaUU',\n",
       " 'KDD',\n",
       " 'K_cdtildeD',\n",
       " 'rBL',\n",
       " 'GammatildeUDD',\n",
       " 'gammaDD',\n",
       " 'M',\n",
       " 'gammatildedet',\n",
       " 'Delta',\n",
       " 'betaD',\n",
       " 'H',\n",
       " 'epsilonUUU',\n",
       " 'K',\n",
       " 'psi_cdtildeD_dD',\n",
       " 'psi_cdtildeDD',\n",
       " 'betaD_cdD',\n",
       " 'Sigma',\n",
       " 'mU',\n",
       " 'alpha',\n",
       " 'a',\n",
       " 'psi',\n",
       " 'gammatildeUU',\n",
       " 'r',\n",
       " 'A',\n",
       " 'psi_cdtildeD',\n",
       " 'theta',\n",
       " 'AtildeUU_cdtildeD')"
      ]
     },
     "execution_count": 3,
     "metadata": {},
     "output_type": "execute_result"
    }
   ],
   "source": [
    "%%parse_latex --reset %%--debug\n",
    "\n",
    "%% define LES coordinates\n",
    "% coord [r, \\theta, \\phi]\n",
    "\n",
    "%% define any relevant constant(s)\n",
    "% define a M --const\n",
    "\n",
    "%% initialize every component of the metric to zero\n",
    "% define gammaDD --dim 3 --zero\n",
    "\n",
    "%% initialize every component of the conformal metric to zero\n",
    "% define gammatildeDD --dim 3 --zero\n",
    "\n",
    "%% initialize extrinsic curvature tensor KDD\n",
    "% define KDD --dim 3 --zero\n",
    "\n",
    "%% initialize shift vector betaU\n",
    "% define betaU --dim 3 --zero\n",
    "\n",
    "%% initialize momentum constraint violation vector MU\n",
    "% define mU --dim 3 --zero\n",
    "\n",
    "%% define string replacements\n",
    "% srepl \"rp\"  -> \"\\text{rp}\"\n",
    "% srepl \"rm\"  -> \"\\text{rm}\"\n",
    "% srepl \"r_{-}\"  -> \"\\text{rp}\"\n",
    "% srepl \"r_{+}\"  -> \"\\text{rm}\"\n",
    "% srepl \"rBL\" -> \"\\text{rBL}\"\n",
    "% srepl \"r_{BL}\" -> \"\\text{rBL}\"\n",
    "\n",
    "% ignore \"\\begin{align}\" \"\\end{align}\"\n",
    "\\begin{align}\n",
    "%% Define quantities that are used to construct the metric elements\n",
    "r_{+}  &= M + \\sqrt{M^2 - a^2} \\\\ %% Boyer-Lindquist outer horizon\n",
    "r_{-}  &= M - \\sqrt{M^2 - a^2} \\\\ %% Boyer-Lindquist inner horizon\n",
    "r_{BL} &= r\\left(1 + \\frac{ r_{+} }{4r}\\right)^2 \\\\\n",
    "\\Sigma &= r_{BL}^2 + a^2 \\cos^2 \\theta \\\\\n",
    "\\Delta &= r_{BL}^2 - 2 M r_{BL} + a^2 \\\\\n",
    "A &= (r_{BL}^2 + a^2)^2 - \\Delta a^2 \\sin^2 \\theta \\\\\n",
    "%% Define metric elements\n",
    "\\gamma_{r r} &= \\frac{ \\Sigma (r + \\frac{r_{+}}{4})^2}{ r^3 (r_{BL} - r_{-} )} \\\\ %% \\gamma_{r r} = g_{0 0}\n",
    "\\gamma_{\\theta\\theta} &= \\Sigma \\\\\n",
    "\\gamma_{\\phi\\phi} &= \\frac{A \\sin^2\\theta}{\\Sigma} \\\\\n",
    "%% generate inverse gammaUU, determinant det(gammaDD), and connection GammaUDD\n",
    "% assign gammaDD --metric\n",
    "%% Define ADM variables\n",
    "\\alpha &= \\sqrt{ \\frac{\\Delta \\Sigma} {A} } \\\\\n",
    "\\beta^{\\phi} &= - \\frac{ 2aM r_{BL} } {A} \\\\\n",
    "%% Define conformal factor\n",
    "\\psi &= \\left(\\frac{A}{\\Sigma}\\right)^{1/4} \\\\\n",
    "%% Define conformal metric\n",
    "\\tilde{\\gamma}_{ij} &= \\psi^{{-4}} \\gamma_{ij} \\\\\n",
    "%% generate inverse gammatildeUU, determinant det(gammatildeDD), and connection GammatildeUDD\n",
    "% assign gammatildeDD --metric\n",
    "%% Define extrinsic curvature\n",
    "K_{ij} &= \\frac{1}{2\\alpha} \\left( \\nabla_{i}\\beta_{j} + \\nabla_{j}\\beta_{i} \\right) \\\\\n",
    "%% Trace of extrinsic curvature\n",
    "K &= \\gamma^{ij} K_{ij}  \\\\\n",
    "%% Tracefree extrinsic curvature\n",
    "A_{ij} &= K_{ij} - \\frac{1}{3} K \\gamma_{ij} \\\\\n",
    "%% Conformal, tracefree extrinsic curvature\n",
    "\\tilde{A}_{ij} &= \\psi^2 A_{ij} \\\\\n",
    "%% Ricci tensor\n",
    "\\tilde{R}_{ij} &= -\\frac{1}{2} \\tilde{\\gamma}^{kl} ( \\tilde{\\gamma}_{ij,lk} \n",
    "                  + \\tilde{\\gamma}_{kl,ji} - \\tilde{\\gamma}_{kj,li} - \\tilde{\\gamma}_{il,jk})\n",
    "                  + \\tilde{\\gamma}^{kl} ( \\tilde{\\Gamma}^{m}_{il} \\tilde{\\Gamma}_{mkj} \n",
    "                  - \\tilde{\\Gamma}^{m}_{ij} \\tilde{\\Gamma}_{mkl}  ) \\\\\n",
    "%% Ricci scalar\n",
    "\\tilde{R} &= \\tilde{\\gamma}^{ij} \\tilde{R}_{ij} \\\\\n",
    "%% Hamiltonian contraint violation\n",
    "% srepl \"\\tilde{\\nabla}^2\" -> \" \\tilde{\\gamma}^{ij} \\tilde{\\nabla}_i \\tilde{\\nabla}_j\"\n",
    "H &= \\tilde{\\nabla}^2 \\psi - \\frac{\\psi \\tilde{R}}{8} - \\frac{ \\psi^5 K^{{2}} }{12} \n",
    "   + \\frac{\\tilde{A}_{ij}\\tilde{A}^{ij}}{8\\psi^7} \\\\\n",
    "%% Momentum constraint violation\n",
    "%% srepl \"\\tilde{\\nabla}^i\" -> \"\\tilde{\\gamma}^{ij} \\tilde{\\nabla}_j\"\n",
    "m^{i} &= \\tilde{\\nabla}_j \\tilde{A}^{ij} - \\frac{2}{3} \\psi^6 \\tilde{\\gamma}^{ij} \\tilde{\\nabla}_j K\n",
    "\\end{align}"
   ]
  },
  {
   "cell_type": "markdown",
   "id": "aa96f809",
   "metadata": {},
   "source": [
    "Once the quantities have been constructed, we can use the `check_zero` from the `UnitTesting.assert_equal` module to check if they are identically zero:"
   ]
  },
  {
   "cell_type": "code",
   "execution_count": 4,
   "id": "bfea9f93",
   "metadata": {},
   "outputs": [
    {
     "name": "stdout",
     "output_type": "stream",
     "text": [
      "True\n",
      "True\n",
      "True\n"
     ]
    }
   ],
   "source": [
    "# Check momemtum constraints\n",
    "for i in range(3):\n",
    "    print( check_zero(mU[i]) )"
   ]
  },
  {
   "cell_type": "code",
   "execution_count": 5,
   "id": "3c4cf7c1",
   "metadata": {},
   "outputs": [
    {
     "name": "stdout",
     "output_type": "stream",
     "text": [
      "True\n"
     ]
    }
   ],
   "source": [
    "# Check Hamiltonian constraint\n",
    "print( check_zero(H) )"
   ]
  },
  {
   "cell_type": "markdown",
   "id": "c171d227",
   "metadata": {},
   "source": [
    "Alternatively, we can use the `parse_latex` function. This is especially useful if the we want to run it in a `.py` file."
   ]
  },
  {
   "cell_type": "code",
   "execution_count": 6,
   "id": "371e77cd",
   "metadata": {},
   "outputs": [
    {
     "data": {
      "text/plain": [
       "('rm',\n",
       " 'RtildeDD',\n",
       " 'Rtilde',\n",
       " 'AtildeUU',\n",
       " 'gammadet',\n",
       " 'gammatildeDD',\n",
       " 'psi_dDD',\n",
       " 'GammatildeDDD',\n",
       " 'psi_dD',\n",
       " 'GammaUDD',\n",
       " 'betaU',\n",
       " 'rp',\n",
       " 'ADD',\n",
       " 'AtildeDD',\n",
       " 'gammaUU',\n",
       " 'KDD',\n",
       " 'K_cdtildeD',\n",
       " 'rBL',\n",
       " 'GammatildeUDD',\n",
       " 'gammaDD',\n",
       " 'M',\n",
       " 'gammatildedet',\n",
       " 'Delta',\n",
       " 'betaD',\n",
       " 'H',\n",
       " 'epsilonUUU',\n",
       " 'K',\n",
       " 'psi_cdtildeD_dD',\n",
       " 'psi_cdtildeDD',\n",
       " 'betaD_cdD',\n",
       " 'Sigma',\n",
       " 'mU',\n",
       " 'alpha',\n",
       " 'a',\n",
       " 'psi',\n",
       " 'gammatildeUU',\n",
       " 'r',\n",
       " 'A',\n",
       " 'psi_cdtildeD',\n",
       " 'theta',\n",
       " 'AtildeUU_cdtildeD')"
      ]
     },
     "execution_count": 6,
     "metadata": {},
     "output_type": "execute_result"
    }
   ],
   "source": [
    "parse_latex(r\"\"\"\n",
    "%% define LES coordinates\n",
    "% coord [r, \\theta, \\phi]\n",
    "\n",
    "%% define any relevant constant(s)\n",
    "% define a M --const\n",
    "\n",
    "%% initialize every component of the metric to zero\n",
    "% define gammaDD --dim 3 --zero\n",
    "\n",
    "%% initialize every component of the conformal metric to zero\n",
    "% define gammatildeDD --dim 3 --zero\n",
    "\n",
    "%% initialize extrinsic curvature tensor KDD\n",
    "% define KDD --dim 3 --zero\n",
    "\n",
    "%% initialize shift vector betaU\n",
    "% define betaU --dim 3 --zero\n",
    "\n",
    "%% initialize momentum constraint violation vector MU\n",
    "% define mU --dim 3 --zero\n",
    "\n",
    "%% define string replacements\n",
    "% srepl \"rp\"  -> \"\\text{rp}\"\n",
    "% srepl \"rm\"  -> \"\\text{rm}\"\n",
    "% srepl \"r_{-}\"  -> \"\\text{rp}\"\n",
    "% srepl \"r_{+}\"  -> \"\\text{rm}\"\n",
    "% srepl \"rBL\" -> \"\\text{rBL}\"\n",
    "% srepl \"r_{BL}\" -> \"\\text{rBL}\"\n",
    "\n",
    "% ignore \"\\begin{align}\" \"\\end{align}\"\n",
    "\\begin{align}\n",
    "%% Define quantities that are used to construct the metric elements\n",
    "r_{+}  &= M + \\sqrt{M^2 - a^2} \\\\ %% Boyer-Lindquist outer horizon\n",
    "r_{-}  &= M - \\sqrt{M^2 - a^2} \\\\ %% Boyer-Lindquist inner horizon\n",
    "r_{BL} &= r\\left(1 + \\frac{ r_{+} }{4r}\\right)^2 \\\\\n",
    "\\Sigma &= r_{BL}^2 + a^2 \\cos^2 \\theta \\\\\n",
    "\\Delta &= r_{BL}^2 - 2 M r_{BL} + a^2 \\\\\n",
    "A &= (r_{BL}^2 + a^2)^2 - \\Delta a^2 \\sin^2 \\theta \\\\\n",
    "%% Define metric elements\n",
    "\\gamma_{r r} &= \\frac{ \\Sigma (r + \\frac{r_{+}}{4})^2}{ r^3 (r_{BL} - r_{-} )} \\\\ %% \\gamma_{r r} = g_{0 0}\n",
    "\\gamma_{\\theta\\theta} &= \\Sigma \\\\\n",
    "\\gamma_{\\phi\\phi} &= \\frac{A \\sin^2\\theta}{\\Sigma} \\\\\n",
    "%% generate inverse gammaUU, determinant det(gammaDD), and connection GammaUDD\n",
    "% assign gammaDD --metric\n",
    "%% Define ADM variables\n",
    "\\alpha &= \\sqrt{ \\frac{\\Delta \\Sigma} {A} } \\\\\n",
    "\\beta^{\\phi} &= - \\frac{ 2aM r_{BL} } {A} \\\\\n",
    "%% Define conformal factor\n",
    "\\psi &= \\left(\\frac{A}{\\Sigma}\\right)^{1/4} \\\\\n",
    "%% Define conformal metric\n",
    "\\tilde{\\gamma}_{ij} &= \\psi^{{-4}} \\gamma_{ij} \\\\\n",
    "%% generate inverse gammatildeUU, determinant det(gammatildeDD), and connection GammatildeUDD\n",
    "% assign gammatildeDD --metric\n",
    "%% Define extrinsic curvature\n",
    "K_{ij} &= \\frac{1}{2\\alpha} \\left( \\nabla_{i}\\beta_{j} + \\nabla_{j}\\beta_{i} \\right) \\\\\n",
    "%% Trace of extrinsic curvature\n",
    "K &= \\gamma^{ij} K_{ij}  \\\\\n",
    "%% Tracefree extrinsic curvature\n",
    "A_{ij} &= K_{ij} - \\frac{1}{3} K \\gamma_{ij} \\\\\n",
    "%% Conformal, tracefree extrinsic curvature\n",
    "\\tilde{A}_{ij} &= \\psi^2 A_{ij} \\\\\n",
    "%% Ricci tensor\n",
    "\\tilde{R}_{ij} &= -\\frac{1}{2} \\tilde{\\gamma}^{kl} ( \\tilde{\\gamma}_{ij,lk} \n",
    "                  + \\tilde{\\gamma}_{kl,ji} - \\tilde{\\gamma}_{kj,li} - \\tilde{\\gamma}_{il,jk})\n",
    "                  + \\tilde{\\gamma}^{kl} ( \\tilde{\\Gamma}^{m}_{il} \\tilde{\\Gamma}_{mkj} \n",
    "                  - \\tilde{\\Gamma}^{m}_{ij} \\tilde{\\Gamma}_{mkl}  ) \\\\\n",
    "%% Ricci scalar\n",
    "\\tilde{R} &= \\tilde{\\gamma}^{ij} \\tilde{R}_{ij} \\\\\n",
    "%% Hamiltonian contraint violation\n",
    "% srepl \"\\tilde{\\nabla}^2\" -> \" \\tilde{\\gamma}^{ij} \\tilde{\\nabla}_i \\tilde{\\nabla}_j\"\n",
    "H &= \\tilde{\\nabla}^2 \\psi - \\frac{\\psi \\tilde{R}}{8} - \\frac{ \\psi^5 K^{{2}} }{12} \n",
    "   + \\frac{\\tilde{A}_{ij}\\tilde{A}^{ij}}{8\\psi^7} \\\\\n",
    "%% Momentum constraint violation\n",
    "%% srepl \"\\tilde{\\nabla}^i\" -> \"\\tilde{\\gamma}^{ij} \\tilde{\\nabla}_j\"\n",
    "m^{i} &= \\tilde{\\nabla}_j \\tilde{A}^{ij} - \\frac{2}{3} \\psi^6 \\tilde{\\gamma}^{ij} \\tilde{\\nabla}_j K\n",
    "\\end{align}\n",
    "\"\"\", reset=True)"
   ]
  },
  {
   "cell_type": "markdown",
   "id": "a0387a1c",
   "metadata": {},
   "source": [
    "Notice that the `parse_latex` function provides us with a list of all the variables that have been internally parsed by `NRPyLaTeX`."
   ]
  },
  {
   "cell_type": "markdown",
   "id": "accurate-dominant",
   "metadata": {},
   "source": [
    "<a id='latex_pdf_output'></a>\n",
    "\n",
    "# Step 4: Output this notebook to $\\LaTeX$-formatted PDF file \\[Back to [top](#toc)\\]\n",
    "$$\\label{latex_pdf_output}$$\n",
    "\n",
    "The following code cell converts this Jupyter notebook into a proper, clickable $\\LaTeX$-formatted PDF file. After the cell is successfully run, the generated PDF may be found in the root NRPy+ tutorial directory, with filename\n",
    "[Tutorial-Hamiltonian-and-momentum-constraint-equations-using-NRPyLaTeX.pdf](Tutorial-Hamiltonian-and-momentum-constraint-equations-using-NRPyLaTeX.pdf). (Note that clicking on this link may not work; you may need to open the PDF file through another means.)"
   ]
  },
  {
   "cell_type": "code",
   "execution_count": 8,
   "id": "congressional-postage",
   "metadata": {},
   "outputs": [
    {
     "name": "stdout",
     "output_type": "stream",
     "text": [
      "Created Tutorial-Hamiltonian-and-momentum-constraint-equations-using-\n",
      "    NRPyLaTeX.tex, and compiled LaTeX file to PDF file Tutorial-\n",
      "    Hamiltonian-and-momentum-constraint-equations-using-NRPyLaTeX.pdf\n"
     ]
    }
   ],
   "source": [
    "import cmdline_helper as cmd    # NRPy+: Multi-platform Python command-line interface\n",
    "cmd.output_Jupyter_notebook_to_LaTeXed_PDF(\"Tutorial-Hamiltonian-and-momentum-constraint-equations-using-NRPyLaTeX\")"
   ]
  },
  {
   "cell_type": "code",
   "execution_count": null,
   "id": "bf823279",
   "metadata": {},
   "outputs": [],
   "source": []
  }
 ],
 "metadata": {
  "kernelspec": {
   "display_name": "Python 3 (ipykernel)",
   "language": "python",
   "name": "python3"
  },
  "language_info": {
   "codemirror_mode": {
    "name": "ipython",
    "version": 3
   },
   "file_extension": ".py",
   "mimetype": "text/x-python",
   "name": "python",
   "nbconvert_exporter": "python",
   "pygments_lexer": "ipython3",
   "version": "3.7.13"
  }
 },
 "nbformat": 4,
 "nbformat_minor": 5
}
