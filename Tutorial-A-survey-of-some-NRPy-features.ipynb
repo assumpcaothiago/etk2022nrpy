{
 "cells": [
  {
   "cell_type": "markdown",
   "id": "studied-jacksonville",
   "metadata": {},
   "source": [
    "<script async src=\"https://www.googletagmanager.com/gtag/js?id=UA-59152712-8\"></script>\n",
    "<script>\n",
    "  window.dataLayer = window.dataLayer || [];\n",
    "  function gtag(){dataLayer.push(arguments);}\n",
    "  gtag('js', new Date());\n",
    "\n",
    "  gtag('config', 'UA-59152712-8');\n",
    "</script>\n",
    "\n",
    "# A survey of some of the `NRPy+` features\n",
    "\n",
    "## Author: Thiago Assumpção\n",
    "\n",
    "\n",
    "## Introduction to some of the recurring NRPy+ features with practical examples."
   ]
  },
  {
   "cell_type": "markdown",
   "id": "smart-climb",
   "metadata": {},
   "source": [
    "<a id='toc'></a>\n",
    "\n",
    "# Table of Contents\n",
    "$$\\label{toc}$$\n",
    "\n",
    "This notebook is organized as follows\n",
    "\n",
    "1. [Step 1](#initializenrpy): Initialize core Python/NRPy+ modules\n",
    "1. [Step 2](#coord): Coordinate systems\n",
    "1. [Step 3](#indexed_expressions): Indexed expressions\n",
    "    1. [Step 3.a](#indexed_expressions_combined_example): Example using indexed expressions and reference metrics: computing the Christoffel symbols\n",
    "1. [Step 4](#fd_derivatives): Finite-difference derivatives\n",
    "1. [Step 5](#c_code_generation): Finite-difference C code example: generating the Laplacian of a scalar function\n",
    "    1. [Step 5.a](#c_code_generation_spherical_symmetry): Laplacian with spherical symmetry\n",
    "    1. [Step 5.b](#c_code_generation_no_symmetry): Laplacian in full 3D    \n",
    "1. [Step 6](#latex_pdf_output): Output this notebook to $\\LaTeX$-formatted PDF file"
   ]
  },
  {
   "cell_type": "markdown",
   "id": "empty-validity",
   "metadata": {},
   "source": [
    "<a id='initializenrpy'></a>\n",
    "\n",
    "# Step 1: Initialize core Python/NRPy+ modules \\[Back to [top](#toc)\\]\n",
    "$$\\label{initializenrpy}$$"
   ]
  },
  {
   "cell_type": "code",
   "execution_count": 1,
   "id": "leading-seller",
   "metadata": {},
   "outputs": [],
   "source": [
    "import sympy as sp               # SymPy: The Python computer algebra package upon which NRPy+ depends\n",
    "import indexedexp as ixp         # NRPy+: Symbolic indexed expression (e.g., tensors, vectors, etc.) support\n",
    "import NRPy_param_funcs as par   # NRPy+: Parameter interface\n",
    "import reference_metric as rfm   # NRPy+: Reference metric support\n",
    "import finite_difference as fin  # NRPy+: Finite difference C code generation module\n",
    "import grid as gri               # NRPy+: Functions having to do with numerical grids\n",
    "from outputC import lhrh         # NRPy+: Core C code output module\n",
    "from UnitTesting.assert_equal import check_zero # NRPy+: unit testing suite"
   ]
  },
  {
   "cell_type": "markdown",
   "id": "211cf039",
   "metadata": {},
   "source": [
    "<a id='coord'></a>\n",
    "\n",
    "# Step 2: Coordinate systems \\[Back to [top](#toc)\\]\n",
    "$$\\label{coord}$$"
   ]
  },
  {
   "cell_type": "markdown",
   "id": "047b6d27",
   "metadata": {},
   "source": [
    "There are several curvilinear, orthogonal coordinate systems implemented in `reference_metric` module. These are the ones currently available:\n",
    "\n",
    "```\n",
    "Spherical-like coordinate systems:\n",
    "Spherical\n",
    "SinhSpherical\n",
    "SinhSphericalv2\n",
    "\n",
    "Cylindrical-like coordinate systems:\n",
    "Cylindrical\n",
    "SinhCylindrical\n",
    "SinhCylindricalv2\n",
    "\n",
    "Cartesian-like coordinate systems:\n",
    "Cartesian\n",
    "SinhCartesian\n",
    "\n",
    "Prolate spheroidal coordinates:\n",
    "SymTP\n",
    "SinhSymTP\n",
    "```\n",
    "\n",
    "\n",
    "Across the NRPy+ code base, it is customary to import this module as\n",
    "```\n",
    "import reference_metric as rfm\n",
    "```\n",
    "\n",
    "`NRPy+` assumes all curvilinear coordinate systems map directly from a uniform numerical grid with coordinates (`xx[0]`,`xx[1]`,`xx[2]`). Thus when defining reference metrics, all defined coordinate quantities must be in terms of the `xx[]` array. As we will see, this adds a great deal of flexibility.\n",
    "\n",
    "For instance, if the chosen coordinate system is Cartesian:\n",
    "* $xx_0 = x$\n",
    "* $xx_1 = y$\n",
    "* $xx_2 = z$\n",
    "\n",
    "\n",
    "If the chosen coordinate system is spherical: \n",
    "* $xx_0 = r$\n",
    "* $xx_1 = \\theta$\n",
    "* $xx_2 = \\phi$"
   ]
  },
  {
   "cell_type": "code",
   "execution_count": 2,
   "id": "68f13508",
   "metadata": {},
   "outputs": [],
   "source": [
    "# Let us set choose the coordinate system\n",
    "par.set_parval_from_str(\"reference_metric::CoordSystem\", \"Spherical\")\n",
    "# And set the dimension to 3\n",
    "par.set_parval_from_str(\"grid::DIM\",3)\n",
    "# Next, we compute several geometrical quantities, such as Christoffel symbols, scale factors,\n",
    "# Jacobians, inverse Jacobians, metric tensor, etc...\n",
    "rfm.reference_metric()"
   ]
  },
  {
   "cell_type": "markdown",
   "id": "544975ce",
   "metadata": {},
   "source": [
    "We can access the metric tensor via `rfm.ghatDD`. The hat diacritic denotes a flat metric."
   ]
  },
  {
   "cell_type": "code",
   "execution_count": 3,
   "id": "9b6f2c16",
   "metadata": {},
   "outputs": [
    {
     "data": {
      "text/latex": [
       "$\\displaystyle \\left[\\begin{matrix}1 & 0 & 0\\\\0 & xx_{0}^{2} & 0\\\\0 & 0 & xx_{0}^{2} \\sin^{2}{\\left(xx_{1} \\right)}\\end{matrix}\\right]$"
      ],
      "text/plain": [
       "Matrix([\n",
       "[1,      0,                  0],\n",
       "[0, xx0**2,                  0],\n",
       "[0,      0, xx0**2*sin(xx1)**2]])"
      ]
     },
     "execution_count": 3,
     "metadata": {},
     "output_type": "execute_result"
    }
   ],
   "source": [
    "# Metric tensor\n",
    "sp.Matrix(rfm.ghatDD)"
   ]
  },
  {
   "cell_type": "code",
   "execution_count": 4,
   "id": "e46e79cc",
   "metadata": {},
   "outputs": [
    {
     "data": {
      "text/latex": [
       "$\\displaystyle \\left[\\begin{matrix}0 & 0 & 0\\\\0 & - xx_{0} & 0\\\\0 & 0 & - xx_{0} \\sin^{2}{\\left(xx_{1} \\right)}\\end{matrix}\\right]$"
      ],
      "text/plain": [
       "Matrix([\n",
       "[0,    0,                0],\n",
       "[0, -xx0,                0],\n",
       "[0,    0, -xx0*sin(xx1)**2]])"
      ]
     },
     "execution_count": 4,
     "metadata": {},
     "output_type": "execute_result"
    }
   ],
   "source": [
    "# Christoffel symbols\n",
    "sp.Matrix(rfm.GammahatUDD[0])"
   ]
  },
  {
   "cell_type": "code",
   "execution_count": 5,
   "id": "81a6660e",
   "metadata": {},
   "outputs": [
    {
     "data": {
      "text/latex": [
       "$\\displaystyle \\left[\\begin{matrix}0 & \\frac{1}{xx_{0}} & 0\\\\\\frac{1}{xx_{0}} & 0 & 0\\\\0 & 0 & - \\frac{\\sin{\\left(2 xx_{1} \\right)}}{2}\\end{matrix}\\right]$"
      ],
      "text/plain": [
       "Matrix([\n",
       "[    0, 1/xx0,             0],\n",
       "[1/xx0,     0,             0],\n",
       "[    0,     0, -sin(2*xx1)/2]])"
      ]
     },
     "execution_count": 5,
     "metadata": {},
     "output_type": "execute_result"
    }
   ],
   "source": [
    "# Christoffel symbols\n",
    "sp.Matrix(rfm.GammahatUDD[1])"
   ]
  },
  {
   "cell_type": "code",
   "execution_count": 6,
   "id": "21d83c79",
   "metadata": {},
   "outputs": [
    {
     "data": {
      "text/latex": [
       "$\\displaystyle \\left[\\begin{matrix}0 & 0 & \\frac{1}{xx_{0}}\\\\0 & 0 & \\frac{\\sin{\\left(2 xx_{1} \\right)}}{2 \\sin^{2}{\\left(xx_{1} \\right)}}\\\\\\frac{1}{xx_{0}} & \\frac{\\sin{\\left(2 xx_{1} \\right)}}{2 \\sin^{2}{\\left(xx_{1} \\right)}} & 0\\end{matrix}\\right]$"
      ],
      "text/plain": [
       "Matrix([\n",
       "[    0,                          0,                      1/xx0],\n",
       "[    0,                          0, sin(2*xx1)/(2*sin(xx1)**2)],\n",
       "[1/xx0, sin(2*xx1)/(2*sin(xx1)**2),                          0]])"
      ]
     },
     "execution_count": 6,
     "metadata": {},
     "output_type": "execute_result"
    }
   ],
   "source": [
    "# Christoffel symbols\n",
    "sp.Matrix(rfm.GammahatUDD[2])"
   ]
  },
  {
   "cell_type": "code",
   "execution_count": 7,
   "id": "6a19457e",
   "metadata": {},
   "outputs": [
    {
     "data": {
      "text/plain": [
       "[xx0*sin(xx1)*cos(xx2), xx0*sin(xx1)*sin(xx2), xx0*cos(xx1), 0]"
      ]
     },
     "execution_count": 7,
     "metadata": {},
     "output_type": "execute_result"
    }
   ],
   "source": [
    "# Converting to Cartesian coordinates\n",
    "rfm.xx_to_Cart"
   ]
  },
  {
   "cell_type": "code",
   "execution_count": 8,
   "id": "10a3247b",
   "metadata": {},
   "outputs": [
    {
     "data": {
      "text/plain": [
       "[sqrt(Cartx**2 + Carty**2 + Cartz**2),\n",
       " acos(Cartz/sqrt(Cartx**2 + Carty**2 + Cartz**2)),\n",
       " atan2(Carty, Cartx),\n",
       " 0]"
      ]
     },
     "execution_count": 8,
     "metadata": {},
     "output_type": "execute_result"
    }
   ],
   "source": [
    "# Converting from Cartesian coordinates\n",
    "rfm.Cart_to_xx"
   ]
  },
  {
   "cell_type": "code",
   "execution_count": 9,
   "id": "b55a6f95",
   "metadata": {},
   "outputs": [],
   "source": [
    "# Jacobian matrices\n",
    "Jac_dUCart_dDrfmUD, Jac_dUrfm_dDCartUD = rfm.compute_Jacobian_and_inverseJacobian_tofrom_Cartesian()"
   ]
  },
  {
   "cell_type": "markdown",
   "id": "c2be72a6",
   "metadata": {},
   "source": [
    "$$\n",
    "\\left (\\frac{\\partial x_{\\rm(Cart)}^i}{\\partial x_0^j} \\right)\n",
    "$$"
   ]
  },
  {
   "cell_type": "code",
   "execution_count": 10,
   "id": "4c6cc8b6",
   "metadata": {},
   "outputs": [
    {
     "data": {
      "text/latex": [
       "$\\displaystyle \\left[\\begin{matrix}\\sin{\\left(xx_{1} \\right)} \\cos{\\left(xx_{2} \\right)} & xx_{0} \\cos{\\left(xx_{1} \\right)} \\cos{\\left(xx_{2} \\right)} & - xx_{0} \\sin{\\left(xx_{1} \\right)} \\sin{\\left(xx_{2} \\right)}\\\\\\sin{\\left(xx_{1} \\right)} \\sin{\\left(xx_{2} \\right)} & xx_{0} \\sin{\\left(xx_{2} \\right)} \\cos{\\left(xx_{1} \\right)} & xx_{0} \\sin{\\left(xx_{1} \\right)} \\cos{\\left(xx_{2} \\right)}\\\\\\cos{\\left(xx_{1} \\right)} & - xx_{0} \\sin{\\left(xx_{1} \\right)} & 0\\end{matrix}\\right]$"
      ],
      "text/plain": [
       "Matrix([\n",
       "[sin(xx1)*cos(xx2), xx0*cos(xx1)*cos(xx2), -xx0*sin(xx1)*sin(xx2)],\n",
       "[sin(xx1)*sin(xx2), xx0*sin(xx2)*cos(xx1),  xx0*sin(xx1)*cos(xx2)],\n",
       "[         cos(xx1),         -xx0*sin(xx1),                      0]])"
      ]
     },
     "execution_count": 10,
     "metadata": {},
     "output_type": "execute_result"
    }
   ],
   "source": [
    "sp.Matrix(Jac_dUCart_dDrfmUD)"
   ]
  },
  {
   "cell_type": "markdown",
   "id": "1740eb6d",
   "metadata": {},
   "source": [
    "$$\n",
    "\\left (\\frac{\\partial x_0^i}{\\partial x_{\\rm(Cart)}^j} \\right)\n",
    "$$"
   ]
  },
  {
   "cell_type": "code",
   "execution_count": 11,
   "id": "9056648f",
   "metadata": {},
   "outputs": [
    {
     "data": {
      "text/latex": [
       "$\\displaystyle \\left[\\begin{matrix}\\sin{\\left(xx_{1} \\right)} \\cos{\\left(xx_{2} \\right)} & \\sin{\\left(xx_{1} \\right)} \\sin{\\left(xx_{2} \\right)} & \\cos{\\left(xx_{1} \\right)}\\\\\\frac{\\cos{\\left(xx_{1} \\right)} \\cos{\\left(xx_{2} \\right)}}{xx_{0}} & \\frac{\\sin{\\left(xx_{2} \\right)} \\cos{\\left(xx_{1} \\right)}}{xx_{0}} & - \\frac{\\sin{\\left(xx_{1} \\right)}}{xx_{0}}\\\\- \\frac{\\sin{\\left(xx_{2} \\right)}}{xx_{0} \\sin{\\left(xx_{1} \\right)}} & \\frac{\\cos{\\left(xx_{2} \\right)}}{xx_{0} \\sin{\\left(xx_{1} \\right)}} & 0\\end{matrix}\\right]$"
      ],
      "text/plain": [
       "Matrix([\n",
       "[       sin(xx1)*cos(xx2),       sin(xx1)*sin(xx2),      cos(xx1)],\n",
       "[   cos(xx1)*cos(xx2)/xx0,   sin(xx2)*cos(xx1)/xx0, -sin(xx1)/xx0],\n",
       "[-sin(xx2)/(xx0*sin(xx1)), cos(xx2)/(xx0*sin(xx1)),             0]])"
      ]
     },
     "execution_count": 11,
     "metadata": {},
     "output_type": "execute_result"
    }
   ],
   "source": [
    "sp.simplify(sp.Matrix(Jac_dUrfm_dDCartUD))"
   ]
  },
  {
   "cell_type": "markdown",
   "id": "411754bd",
   "metadata": {},
   "source": [
    "You can set a different coordinate system and run the above cells again to see the results."
   ]
  },
  {
   "cell_type": "markdown",
   "id": "bd9f83f5",
   "metadata": {},
   "source": [
    "<a id='indexed_expressions'></a>\n",
    "\n",
    "# Step 3: Indexed expressions \\[Back to [top](#toc)\\]\n",
    "$$\\label{indexed_expressions}$$"
   ]
  },
  {
   "cell_type": "markdown",
   "id": "ac7aba21",
   "metadata": {},
   "source": [
    "To manipulate expressions with indices, such as tensors or pseudotensors, we use the `indexedexp` module. Across the NRPy+ code base, it is customary to import this module as\n",
    "```\n",
    "import indexedexp as ixp\n",
    "```\n",
    "\n",
    "**Naming convention**: \n",
    "\n",
    "For each upper index, we append the character `U` at the end of the variable name. Likewise, for each lower index, we append the character `D` at the end of the variable name.\n",
    "\n",
    "**Examples**:\n",
    "\n",
    "* $a^{i} \\leftrightarrow$ `aU[i]`\n",
    "\n",
    "\n",
    "* $b_{i} \\leftrightarrow$ `bD[i]`\n",
    "\n",
    "\n",
    "* $g_{ij} \\leftrightarrow$ `gDD[i][j]`\n",
    "  * Usage example: $g_{00} \\leftrightarrow$ `gDD[0][0]`\n",
    "\n",
    "\n",
    "* $\\Gamma^{i}_{ \\ jk} \\leftrightarrow$ `GammaUDD[i][j][k]`\n",
    "\n",
    "\n",
    "* $R^{i}_{ \\ j k l m} \\leftrightarrow$ `RUDDDD[i][j][k][l][m]`\n",
    "\n",
    "Do not use `D` or `U` as variable names to avoid unexpected behavior.\n",
    "\n",
    "To define an indexed expression, we need to provide the dimension, `DIM`, and the symmetry option, `sym` (if the rank is higher than 1)."
   ]
  },
  {
   "cell_type": "code",
   "execution_count": 12,
   "id": "df1c209a",
   "metadata": {},
   "outputs": [],
   "source": [
    "import indexedexp as ixp"
   ]
  },
  {
   "cell_type": "markdown",
   "id": "695fdb82",
   "metadata": {},
   "source": [
    "Declaring a vector in three dimentions:"
   ]
  },
  {
   "cell_type": "code",
   "execution_count": 13,
   "id": "ba14a13d",
   "metadata": {},
   "outputs": [],
   "source": [
    "aU = ixp.declarerank1(symbol='aU', DIM=3)"
   ]
  },
  {
   "cell_type": "code",
   "execution_count": 14,
   "id": "4382f47b",
   "metadata": {},
   "outputs": [
    {
     "name": "stdout",
     "output_type": "stream",
     "text": [
      "aU[0] = aU0\n",
      "aU[1] = aU1\n",
      "aU[2] = aU2\n"
     ]
    }
   ],
   "source": [
    "for i in range(3):\n",
    "    print(f\"aU[{i}] = {aU[i]}\")"
   ]
  },
  {
   "cell_type": "markdown",
   "id": "17707f41",
   "metadata": {},
   "source": [
    "It is also customary, but not mandatory, to use the same characters to denote the symbol and the variable name. Note that the symbol of each component of the tensor has the index appended at the end.\n",
    "\n",
    "**Common pitfall**: you cannot use the variable `aU0` directly, as it can only be accessed via `aU[0]`. If you wish to use `aU0`, you must define it as a SymPy variable. Also notice that `aU[0]` is just a normal SymPy symbol:"
   ]
  },
  {
   "cell_type": "code",
   "execution_count": 15,
   "id": "b762d229",
   "metadata": {},
   "outputs": [
    {
     "name": "stdout",
     "output_type": "stream",
     "text": [
      "aU0\n"
     ]
    }
   ],
   "source": [
    "print(aU[0])"
   ]
  },
  {
   "cell_type": "code",
   "execution_count": 16,
   "id": "24544805",
   "metadata": {},
   "outputs": [
    {
     "data": {
      "text/plain": [
       "sympy.core.symbol.Symbol"
      ]
     },
     "execution_count": 16,
     "metadata": {},
     "output_type": "execute_result"
    }
   ],
   "source": [
    "type(aU[0])"
   ]
  },
  {
   "cell_type": "code",
   "execution_count": 17,
   "id": "a505acee",
   "metadata": {},
   "outputs": [],
   "source": [
    "aU0 = sp.symbols('aU0')"
   ]
  },
  {
   "cell_type": "code",
   "execution_count": 18,
   "id": "58d91f67",
   "metadata": {},
   "outputs": [
    {
     "name": "stdout",
     "output_type": "stream",
     "text": [
      "0\n"
     ]
    }
   ],
   "source": [
    "print(aU[0] - aU0)"
   ]
  },
  {
   "cell_type": "code",
   "execution_count": 19,
   "id": "4802a22c",
   "metadata": {},
   "outputs": [
    {
     "name": "stdout",
     "output_type": "stream",
     "text": [
      "They have the same id:\n",
      "0x7fd772c3c2d0\n",
      "0x7fd772c3c2d0\n"
     ]
    }
   ],
   "source": [
    "print(\"They have the same id:\")\n",
    "print( hex(id(aU0)) )\n",
    "print( hex(id(aU[0])) )"
   ]
  },
  {
   "cell_type": "markdown",
   "id": "c79eb4e4",
   "metadata": {},
   "source": [
    "Now let us define a vector with each component equal to 0. There is no need to define a symbol:"
   ]
  },
  {
   "cell_type": "code",
   "execution_count": 20,
   "id": "8b1c0d44",
   "metadata": {},
   "outputs": [],
   "source": [
    "bD = ixp.zerorank1(DIM=3)"
   ]
  },
  {
   "cell_type": "code",
   "execution_count": 21,
   "id": "61607d8e",
   "metadata": {},
   "outputs": [
    {
     "name": "stdout",
     "output_type": "stream",
     "text": [
      "bD[0] = 0\n",
      "bD[1] = 0\n",
      "bD[2] = 0\n"
     ]
    }
   ],
   "source": [
    "for i in range(3):\n",
    "    print(f\"bD[{i}] = {bD[i]}\")"
   ]
  },
  {
   "cell_type": "markdown",
   "id": "ce8387e7",
   "metadata": {},
   "source": [
    "Defining a rank-2 tensor:"
   ]
  },
  {
   "cell_type": "code",
   "execution_count": 22,
   "id": "6ad17237",
   "metadata": {},
   "outputs": [],
   "source": [
    "gDD = ixp.declarerank2('gDD', 'sym01', DIM=3)"
   ]
  },
  {
   "cell_type": "code",
   "execution_count": 23,
   "id": "8a2e6eba",
   "metadata": {},
   "outputs": [
    {
     "data": {
      "text/plain": [
       "[[gDD00, gDD01, gDD02], [gDD01, gDD11, gDD12], [gDD02, gDD12, gDD22]]"
      ]
     },
     "execution_count": 23,
     "metadata": {},
     "output_type": "execute_result"
    }
   ],
   "source": [
    "gDD"
   ]
  },
  {
   "cell_type": "code",
   "execution_count": 24,
   "id": "15ebf3d0",
   "metadata": {},
   "outputs": [
    {
     "name": "stdout",
     "output_type": "stream",
     "text": [
      "gDD[0][1] - gDD[1][0] = 0\n",
      "gDD[0][2] - gDD[2][0] = 0\n",
      "gDD[1][2] - gDD[2][1] = 0\n"
     ]
    }
   ],
   "source": [
    "# Checking symmetry\n",
    "for i in range(3):\n",
    "    for j in range(i+1,3):\n",
    "         print(f\"gDD[{i}][{j}] - gDD[{j}][{i}] = {gDD[i][j] - gDD[j][i]}\")"
   ]
  },
  {
   "cell_type": "markdown",
   "id": "65b9f6b5",
   "metadata": {},
   "source": [
    "Index-lowering example:\n",
    "\n",
    "$$\n",
    "a_i = g_{ij}a^{j} \\,.\n",
    "$$"
   ]
  },
  {
   "cell_type": "code",
   "execution_count": 25,
   "id": "a51d8fa6",
   "metadata": {},
   "outputs": [],
   "source": [
    "# First, define aD\n",
    "aD = ixp.zerorank1(DIM=3) # we can define with 0's, since these components will be updated\n",
    "# Index lowering\n",
    "for i in range(3):\n",
    "    for j in range(3):\n",
    "        aD[i] += gDD[i][j]*aU[j]"
   ]
  },
  {
   "cell_type": "code",
   "execution_count": 26,
   "id": "1360f96e",
   "metadata": {},
   "outputs": [
    {
     "data": {
      "text/plain": [
       "[aU0*gDD00 + aU1*gDD01 + aU2*gDD02,\n",
       " aU0*gDD01 + aU1*gDD11 + aU2*gDD12,\n",
       " aU0*gDD02 + aU1*gDD12 + aU2*gDD22]"
      ]
     },
     "execution_count": 26,
     "metadata": {},
     "output_type": "execute_result"
    }
   ],
   "source": [
    "aD"
   ]
  },
  {
   "cell_type": "code",
   "execution_count": 27,
   "id": "3eed0b80",
   "metadata": {},
   "outputs": [
    {
     "name": "stdout",
     "output_type": "stream",
     "text": [
      "aU0*gDD02 + aU1*gDD12 + aU2*gDD22\n"
     ]
    }
   ],
   "source": [
    "print(aD[2])"
   ]
  },
  {
   "cell_type": "markdown",
   "id": "69589307",
   "metadata": {},
   "source": [
    "Defining a tensor $T_{ijkl}$ with the following symmetries:\n",
    "\n",
    "$$\n",
    "\\begin{aligned}\n",
    "T_{ijkl} &= - T_{ljki} \\,, \\\\\n",
    "T_{ijkl} &= T_{ikjl} \\,. \\\\\n",
    "\\end{aligned}\n",
    "$$"
   ]
  },
  {
   "cell_type": "code",
   "execution_count": 28,
   "id": "515da62c",
   "metadata": {},
   "outputs": [],
   "source": [
    "# Each symmetry is separated with an underscore\n",
    "TDDDD = ixp.declarerank4('TDDDD', 'anti03_sym12', DIM=3)"
   ]
  },
  {
   "cell_type": "code",
   "execution_count": 29,
   "id": "bb5d0387",
   "metadata": {},
   "outputs": [
    {
     "name": "stdout",
     "output_type": "stream",
     "text": [
      "Anti-symmetry example:\n",
      "TDDDD[0][1][2][1] =  TDDDD0121\n",
      "TDDDD[1][1][2][0] = -TDDDD0121\n",
      "Symmetry example:\n",
      "TDDDD[0][1][2][1] = TDDDD0121\n",
      "TDDDD[0][2][1][1] = TDDDD0121\n"
     ]
    }
   ],
   "source": [
    "print(\"Anti-symmetry example:\")\n",
    "print(f\"TDDDD[0][1][2][1] =  {TDDDD[0][1][2][1]}\")\n",
    "print(f\"TDDDD[1][1][2][0] = {TDDDD[1][1][2][0]}\")\n",
    "print(\"Symmetry example:\")\n",
    "print(f\"TDDDD[0][1][2][1] = {TDDDD[0][1][2][1]}\")\n",
    "print(f\"TDDDD[0][2][1][1] = {TDDDD[0][2][1][1]}\")"
   ]
  },
  {
   "cell_type": "markdown",
   "id": "51ee299c",
   "metadata": {},
   "source": [
    "If you wish to declare indexed expressions with ranks higher than $4$, you can use the function\n",
    "```\n",
    "ixp.declare_indexedexp(rank, symbol=None, symmetry=None, dimension=None)\n",
    "```"
   ]
  },
  {
   "cell_type": "code",
   "execution_count": 30,
   "id": "dfd8c100",
   "metadata": {},
   "outputs": [],
   "source": [
    "cDDDUUU = ixp.declare_indexedexp(rank=6, symbol=\"cDDDUUU\", symmetry=None, dimension=3)"
   ]
  },
  {
   "cell_type": "code",
   "execution_count": 31,
   "id": "32a6b787",
   "metadata": {
    "scrolled": false
   },
   "outputs": [
    {
     "name": "stdout",
     "output_type": "stream",
     "text": [
      "cDDDUUU021210\n"
     ]
    }
   ],
   "source": [
    "print(cDDDUUU[0][2][1][2][1][0])"
   ]
  },
  {
   "cell_type": "markdown",
   "id": "05a3ffdd",
   "metadata": {},
   "source": [
    "<a id='indexed_expressions_combined_example'></a>\n",
    "\n",
    "## Step 3.a: Example using indexed expressions and reference metrics: computing the Christoffel symbols \\[Back to [top](#toc)\\]\n",
    "$$\\label{indexed_expressions_combined_example}$$"
   ]
  },
  {
   "cell_type": "markdown",
   "id": "60224fd5",
   "metadata": {},
   "source": [
    "Let us now combine the things we have learned so far in an example. We will compute the Christoffel symbols ourselves and check if they agree with `rfm.GammaUDD`.\n",
    "\n",
    "The Christoffel symbols are given by\n",
    "\n",
    "$$\n",
    "    \\hat{\\Gamma}^{i}_{\\ j k} = \\frac{1}{2} \\hat{g}^{l i} \n",
    "           ( \\hat{g}_{l j, k} + \\hat{g}_{l k, j} - \\hat{g}_{j k, l} ) \\,.\n",
    "$$\n",
    "\n",
    "The hat diacritic denotes a flat metric."
   ]
  },
  {
   "cell_type": "code",
   "execution_count": 32,
   "id": "44685b7f",
   "metadata": {},
   "outputs": [
    {
     "data": {
      "text/latex": [
       "$\\displaystyle 2 xx_{0} \\sin^{2}{\\left(xx_{1} \\right)}$"
      ],
      "text/plain": [
       "2*xx0*sin(xx1)**2"
      ]
     },
     "execution_count": 32,
     "metadata": {},
     "output_type": "execute_result"
    }
   ],
   "source": [
    "# How symbolic derivatives are computed\n",
    "rfm.ghatDD[2][2].diff(rfm.xx[0])"
   ]
  },
  {
   "cell_type": "code",
   "execution_count": 33,
   "id": "180b8425",
   "metadata": {},
   "outputs": [],
   "source": [
    "# First, define rank-3 indexed expression\n",
    "GammahatUDD = ixp.zerorank3(DIM=3)\n",
    "for i in range(3):\n",
    "    for j in range(3):\n",
    "        for k in range(3):\n",
    "            for l in range(3):\n",
    "                GammahatUDD[i][j][k] += sp.simplify( sp.Rational(1,2) * rfm.ghatUU[l][i] * (\n",
    "                                             rfm.ghatDD[l][j].diff(rfm.xx[k]) +\n",
    "                                             rfm.ghatDD[l][k].diff(rfm.xx[j]) -\n",
    "                                             rfm.ghatDD[j][k].diff(rfm.xx[l])\n",
    "                                             ))"
   ]
  },
  {
   "cell_type": "markdown",
   "id": "c1c23da7",
   "metadata": {},
   "source": [
    "$\\hat{g}_{l j, k}$ is computed as `rfm.ghatDD[l][j].diff(rfm.xx[k])`. Refer to [sympy.diff](https://docs.sympy.org/latest/tutorials/intro-tutorial/calculus.html#derivatives) in the official `SymPy` documentation for more details."
   ]
  },
  {
   "cell_type": "code",
   "execution_count": 34,
   "id": "35dfa091",
   "metadata": {},
   "outputs": [
    {
     "name": "stdout",
     "output_type": "stream",
     "text": [
      "0\n",
      "0\n",
      "0\n",
      "0\n",
      "0\n",
      "0\n",
      "0\n",
      "0\n",
      "0\n",
      "0\n",
      "0\n",
      "0\n",
      "0\n",
      "0\n",
      "0\n",
      "0\n",
      "0\n",
      "0\n"
     ]
    }
   ],
   "source": [
    "# Comparing Christoffel symbols\n",
    "for i in range(3):\n",
    "    for j in range(3):\n",
    "        for k in range(j,3):\n",
    "            print (sp.simplify(GammahatUDD[i][j][k] - rfm.GammahatUDD[i][j][k]))"
   ]
  },
  {
   "cell_type": "markdown",
   "id": "dad3b233",
   "metadata": {},
   "source": [
    "<a id='fd_derivatives'></a>\n",
    "\n",
    "# Step 4: Finite-difference derivatives \\[Back to [top](#toc)\\]\n",
    "$$\\label{fd_derivatives}$$"
   ]
  },
  {
   "cell_type": "markdown",
   "id": "4f3f9a89",
   "metadata": {},
   "source": [
    "To denote derivatives, we first append `_d` at the end of the variable name. Subsequently, we append a character `D` for each derivative order.\n",
    "\n",
    "**Examples**:\n",
    "\n",
    "* $a^{i}_{\\ ,j} \\leftrightarrow$ `aU_dD[i][j]`\n",
    "\n",
    "\n",
    "* $b_{i,jk} \\leftrightarrow$ `bD_dDD[i][j][k]`\n",
    "\n",
    "\n",
    "* $g_{ij, kl} \\leftrightarrow$ `gDD_dDD[i][j][k][l]`\n",
    "\n",
    "\n",
    "* $\\Gamma^{i}_{ \\ jk,l} \\leftrightarrow$ `GammaUDD_dD[i][j][k][l]`\n",
    "\n",
    "\n",
    "* $R^{i}_{ \\ j k l m, pq} \\leftrightarrow$ `RUDDDD_dDD[i][j][k][l][m][p][q]`"
   ]
  },
  {
   "cell_type": "markdown",
   "id": "208732c3",
   "metadata": {},
   "source": [
    "Notice that if we define an indexed expression using the above notation, nothing different will happen:"
   ]
  },
  {
   "cell_type": "code",
   "execution_count": 35,
   "id": "71f8dc30",
   "metadata": {},
   "outputs": [],
   "source": [
    "aU_dD = ixp.declarerank2('aU_dD', 'nosym', DIM=3)"
   ]
  },
  {
   "cell_type": "code",
   "execution_count": 36,
   "id": "aa1a11fb",
   "metadata": {},
   "outputs": [
    {
     "name": "stdout",
     "output_type": "stream",
     "text": [
      "[aU_dD00, aU_dD01, aU_dD02]\n"
     ]
    }
   ],
   "source": [
    "print(aU_dD[0])"
   ]
  },
  {
   "cell_type": "markdown",
   "id": "e99199aa",
   "metadata": {},
   "source": [
    "However, this convention will be required when generating C code."
   ]
  },
  {
   "cell_type": "markdown",
   "id": "a22bb4c2",
   "metadata": {},
   "source": [
    "<a id='c_code_generation'></a>\n",
    "\n",
    "# Step 5: Finite-difference C code example: generating the Laplacian of a scalar function \\[Back to [top](#toc)\\]\n",
    "$$\\label{c_code_generation}$$"
   ]
  },
  {
   "cell_type": "markdown",
   "id": "8ccda1f9",
   "metadata": {},
   "source": [
    "The Laplacian of a function $u$ can be expressed in a covariant way as\n",
    "\n",
    "$$\n",
    "\\begin{aligned}\n",
    "\\hat{\\nabla}^2 u &= \\hat{\\gamma}^{ij} \\hat{\\nabla}_j \\hat{\\nabla}_i u \\\\\n",
    "                   &=  \\hat{\\gamma}^{ij} (\\hat{\\nabla}_j u_{,i}) \\\\\n",
    "                   &= \\hat{\\gamma}^{ij} ( u_{,ij} - u_{,k} \\hat{\\Gamma}^{k}_{\\ \\ ij} ) \\\\\n",
    "                   &= \\hat{\\gamma}^{ij} u_{,ij} - ( \\hat{\\gamma}^{ij}\\hat{\\Gamma}^{k}_{\\ \\ ij}) u_{,k} \\\\\n",
    "                   &= \\hat{\\gamma}^{ij} u_{,ij}  - \\hat{\\Gamma}^{i} u_{,i} \\,.\n",
    "\\end{aligned}\n",
    "$$\n",
    "\n",
    "In the last equation, I replaced the summation index to $i$. Moreover,  we have defined the contracted Christoffel symbols as\n",
    "\n",
    "$$\n",
    "\\hat{\\Gamma}^{k} = \\hat{\\gamma}^{ij}\\hat{\\Gamma}^{k}_{\\ \\ ij} \\,.\n",
    "$$\n",
    "\n",
    "\n",
    "In the next two examples, we will generate C codes to evaluate these expression with finite-difference derivatives."
   ]
  },
  {
   "cell_type": "markdown",
   "id": "e785b345",
   "metadata": {},
   "source": [
    "<a id='c_code_generation_spherical_symmetry'></a>\n",
    "\n",
    "## Step 5.a: Laplacian with spherical symmetry \\[Back to [top](#toc)\\]\n",
    "$$\\label{c_code_generation_spherical_symmetry}$$"
   ]
  },
  {
   "cell_type": "code",
   "execution_count": 37,
   "id": "9152223b",
   "metadata": {},
   "outputs": [],
   "source": [
    "# Step 0: Set spatial dimension to 3\n",
    "DIM = 3\n",
    "\n",
    "# Step 1a: Set the finite differencing order to 4.\n",
    "par.set_parval_from_str(\"finite_difference::FD_CENTDERIVS_ORDER\", 4)\n",
    "\n",
    "# Step 1b: Choose symmetry axes as '12',\n",
    "# all derivatives _dD1, _dD2, _dDD1*, or _dDD2* vanish\n",
    "par.set_parval_from_str(\"indexedexp::symmetry_axes\",'12')\n",
    "\n",
    "# Step 2a: Reset the gridfunctions list\n",
    "gri.glb_gridfcs_list = []\n",
    "\n",
    "# Step 2b: Register gridfunction\n",
    "uu = gri.register_gridfunctions(\"EVOL\",[\"uu\"])\n",
    "\n",
    "# Step 3a: Declare first derivative\n",
    "uu_dD = ixp.declarerank1(\"uu_dD\")\n",
    "\n",
    "# Step 3b: Declare second derivative\n",
    "uu_dDD = ixp.declarerank2(\"uu_dDD\",\"sym01\")"
   ]
  },
  {
   "cell_type": "markdown",
   "id": "a6ef5249",
   "metadata": {},
   "source": [
    "$$\n",
    "\\hat{\\Gamma}^{k} = \\hat{\\gamma}^{ij}\\hat{\\Gamma}^{k}_{\\ \\ ij} \\,.\n",
    "$$"
   ]
  },
  {
   "cell_type": "code",
   "execution_count": 38,
   "id": "991011c3",
   "metadata": {},
   "outputs": [],
   "source": [
    "# Step 4: Compute contracted Christoffel symbols\n",
    "contractedGammahatU = ixp.zerorank1()\n",
    "for k in range(3):\n",
    "    for i in range(3):\n",
    "        for j in range(3):\n",
    "            contractedGammahatU[k] += rfm.ghatUU[i][j] * rfm.GammahatUDD[k][i][j]"
   ]
  },
  {
   "cell_type": "markdown",
   "id": "d1be8baf",
   "metadata": {},
   "source": [
    "$$\n",
    "\\hat{\\nabla}^2 u = {\\underbrace {\\textstyle \\hat{\\gamma}^{ij} u_{,ij}}_{\\text{Part 1}}}  \n",
    "                 - {\\underbrace {\\textstyle \\hat{\\Gamma}^{i} u_{,i}}_{\\text{Part 2}}} \\,.\n",
    "$$"
   ]
  },
  {
   "cell_type": "code",
   "execution_count": 39,
   "id": "2c5431a7",
   "metadata": {},
   "outputs": [],
   "source": [
    "# Step 5: Compute Laplacian of u\n",
    "u_laplacian = sp.sympify(0)\n",
    "for i in range(DIM):\n",
    "    # PART 2:\n",
    "    u_laplacian -= contractedGammahatU[i]*uu_dD[i]\n",
    "    for j in range(DIM):\n",
    "        # PART 1:\n",
    "        u_laplacian += rfm.ghatUU[i][j]*uu_dDD[i][j]"
   ]
  },
  {
   "cell_type": "code",
   "execution_count": 40,
   "id": "0721a8f4",
   "metadata": {},
   "outputs": [
    {
     "name": "stdout",
     "output_type": "stream",
     "text": [
      "{\n",
      "  /*\n",
      "   * NRPy+ Finite Difference Code Generation, Step 1 of 2: Read from main memory and compute finite difference stencils:\n",
      "   */\n",
      "  /*\n",
      "   *  Original SymPy expressions:\n",
      "   *  \"[const double uu_dD0 = invdx0*(-2*uu_i0m1/3 + uu_i0m2/12 + 2*uu_i0p1/3 - uu_i0p2/12),\n",
      "   *    const double uu_dDD00 = invdx0**2*(-5*uu/2 + 4*uu_i0m1/3 - uu_i0m2/12 + 4*uu_i0p1/3 - uu_i0p2/12)]\"\n",
      "   */\n",
      "  const double uu_i0m2 = in_gfs[IDX4S(UUGF, i0-2)];\n",
      "  const double uu_i0m1 = in_gfs[IDX4S(UUGF, i0-1)];\n",
      "  const double uu = in_gfs[IDX4S(UUGF, i0)];\n",
      "  const double uu_i0p1 = in_gfs[IDX4S(UUGF, i0+1)];\n",
      "  const double uu_i0p2 = in_gfs[IDX4S(UUGF, i0+2)];\n",
      "  const double FDPart1_Rational_2_3 = 2.0/3.0;\n",
      "  const double FDPart1_Rational_1_12 = 1.0/12.0;\n",
      "  const double FDPart1_Rational_5_2 = 5.0/2.0;\n",
      "  const double FDPart1_Rational_4_3 = 4.0/3.0;\n",
      "  const double uu_dD0 = invdx0*(FDPart1_Rational_1_12*(uu_i0m2 - uu_i0p2) + FDPart1_Rational_2_3*(-uu_i0m1 + uu_i0p1));\n",
      "  const double uu_dDD00 = ((invdx0)*(invdx0))*(FDPart1_Rational_1_12*(-uu_i0m2 - uu_i0p2) + FDPart1_Rational_4_3*(uu_i0m1 + uu_i0p1) - FDPart1_Rational_5_2*uu);\n",
      "  /*\n",
      "   * NRPy+ Finite Difference Code Generation, Step 2 of 2: Evaluate SymPy expressions and write to main memory:\n",
      "   */\n",
      "  /*\n",
      "   *  Original SymPy expression:\n",
      "   *  \"u_laplacian = 2*uu_dD0/xx0 + uu_dDD00\"\n",
      "   */\n",
      "  u_laplacian = 2*uu_dD0/xx0 + uu_dDD00;\n",
      "}\n"
     ]
    }
   ],
   "source": [
    "# Step 6: Generate C code for Laplacian\n",
    "print(fin.FD_outputC(\"returnstring\",\n",
    "        [lhrh(lhs=\"u_laplacian\",rhs=u_laplacian)]).replace(\",i1,i2\",\"\").replace(\"_i1_i2\",\"\") )"
   ]
  },
  {
   "cell_type": "markdown",
   "id": "916fad60",
   "metadata": {},
   "source": [
    "The default output style is `SENRlike`, which is compatible with NRPy-generate C projects."
   ]
  },
  {
   "cell_type": "code",
   "execution_count": 41,
   "id": "6d005d96",
   "metadata": {},
   "outputs": [
    {
     "data": {
      "text/plain": [
       "'SENRlike'"
      ]
     },
     "execution_count": 41,
     "metadata": {},
     "output_type": "execute_result"
    }
   ],
   "source": [
    "par.parval_from_str(\"grid::GridFuncMemAccess\")"
   ]
  },
  {
   "cell_type": "markdown",
   "id": "ab3f85f3",
   "metadata": {},
   "source": [
    "We can change the above parameter to ETK grid access style:"
   ]
  },
  {
   "cell_type": "code",
   "execution_count": 42,
   "id": "a25c7c71",
   "metadata": {},
   "outputs": [],
   "source": [
    "par.set_paramsvals_value(\"grid::GridFuncMemAccess = ETK\")"
   ]
  },
  {
   "cell_type": "code",
   "execution_count": 43,
   "id": "91fb8c25",
   "metadata": {
    "scrolled": false
   },
   "outputs": [
    {
     "name": "stdout",
     "output_type": "stream",
     "text": [
      "{\n",
      "  /*\n",
      "   * NRPy+ Finite Difference Code Generation, Step 1 of 2: Read from main memory and compute finite difference stencils:\n",
      "   */\n",
      "  /*\n",
      "   *  Original SymPy expressions:\n",
      "   *  \"[const double uu_dD0 = invdx0*(-2*uu_i0m1_i1_i2/3 + uu_i0m2_i1_i2/12 + 2*uu_i0p1_i1_i2/3 - uu_i0p2_i1_i2/12),\n",
      "   *    const double uu_dDD00 = invdx0**2*(-5*uu/2 + 4*uu_i0m1_i1_i2/3 - uu_i0m2_i1_i2/12 + 4*uu_i0p1_i1_i2/3 - uu_i0p2_i1_i2/12)]\"\n",
      "   */\n",
      "  const double uu_i0m2_i1_i2 = uuGF[CCTK_GFINDEX3D(cctkGH, i0-2,i1,i2)];\n",
      "  const double uu_i0m1_i1_i2 = uuGF[CCTK_GFINDEX3D(cctkGH, i0-1,i1,i2)];\n",
      "  const double uu = uuGF[CCTK_GFINDEX3D(cctkGH, i0,i1,i2)];\n",
      "  const double uu_i0p1_i1_i2 = uuGF[CCTK_GFINDEX3D(cctkGH, i0+1,i1,i2)];\n",
      "  const double uu_i0p2_i1_i2 = uuGF[CCTK_GFINDEX3D(cctkGH, i0+2,i1,i2)];\n",
      "  const double FDPart1_Rational_2_3 = 2.0/3.0;\n",
      "  const double FDPart1_Rational_1_12 = 1.0/12.0;\n",
      "  const double FDPart1_Rational_5_2 = 5.0/2.0;\n",
      "  const double FDPart1_Rational_4_3 = 4.0/3.0;\n",
      "  const double uu_dD0 = invdx0*(FDPart1_Rational_1_12*(uu_i0m2_i1_i2 - uu_i0p2_i1_i2) + FDPart1_Rational_2_3*(-uu_i0m1_i1_i2 + uu_i0p1_i1_i2));\n",
      "  const double uu_dDD00 = ((invdx0)*(invdx0))*(FDPart1_Rational_1_12*(-uu_i0m2_i1_i2 - uu_i0p2_i1_i2) + FDPart1_Rational_4_3*(uu_i0m1_i1_i2 + uu_i0p1_i1_i2) - FDPart1_Rational_5_2*uu);\n",
      "  /*\n",
      "   * NRPy+ Finite Difference Code Generation, Step 2 of 2: Evaluate SymPy expressions and write to main memory:\n",
      "   */\n",
      "  /*\n",
      "   *  Original SymPy expression:\n",
      "   *  \"u_laplacian = 2*uu_dD0/xx0 + uu_dDD00\"\n",
      "   */\n",
      "  u_laplacian = 2*uu_dD0/xx0 + uu_dDD00;\n",
      "}\n"
     ]
    }
   ],
   "source": [
    "# Step 6: Generate C code for Laplacian\n",
    "print(fin.FD_outputC(\"returnstring\",\n",
    "        [lhrh(lhs=\"u_laplacian\",rhs=u_laplacian)]) )"
   ]
  },
  {
   "cell_type": "markdown",
   "id": "abb9cfc4",
   "metadata": {},
   "source": [
    "<a id='c_code_generation_no_symmetry'></a>\n",
    "\n",
    "## Step 5.b: Laplacian in full 3D \\[Back to [top](#toc)\\]\n",
    "$$\\label{c_code_generation_no_symmetry}$$"
   ]
  },
  {
   "cell_type": "code",
   "execution_count": 44,
   "id": "97dec359",
   "metadata": {},
   "outputs": [],
   "source": [
    "# Choose a different coordinate system\n",
    "par.set_parval_from_str(\"reference_metric::CoordSystem\", \"SinhSymTP\")\n",
    "# And set the dimension to 3\n",
    "par.set_parval_from_str(\"grid::DIM\",3)\n",
    "# Recompute geometric quantities in the new coordinate system\n",
    "rfm.reference_metric()"
   ]
  },
  {
   "cell_type": "code",
   "execution_count": 45,
   "id": "3bf6b9da",
   "metadata": {},
   "outputs": [],
   "source": [
    "# Step 0: Set grid access option\n",
    "par.set_paramsvals_value(\"grid::GridFuncMemAccess = SENRlike\")\n",
    "\n",
    "# Step 1a: Set the finite differencing order to 10.\n",
    "par.set_parval_from_str(\"finite_difference::FD_CENTDERIVS_ORDER\", 10)\n",
    "\n",
    "# Step 1b: Remove symmmetry axes\n",
    "par.set_parval_from_str(\"indexedexp::symmetry_axes\",'nosym')\n",
    "\n",
    "# Step 2a: Reset the gridfunctions list\n",
    "gri.glb_gridfcs_list = []\n",
    "\n",
    "# Step 2b: Register gridfunction\n",
    "uu = gri.register_gridfunctions(\"EVOL\",[\"uu\"])\n",
    "\n",
    "# Step 3a: Declare first derivative\n",
    "uu_dD = ixp.declarerank1(\"uu_dD\")\n",
    "\n",
    "# Step 3b: Declare second derivative\n",
    "uu_dDD = ixp.declarerank2(\"uu_dDD\",\"sym01\")\n",
    "\n",
    "# Step 4: Compute contracted Christoffel symbols\n",
    "contractedGammahatU = ixp.zerorank1()\n",
    "for k in range(3):\n",
    "    for i in range(3):\n",
    "        for j in range(3):\n",
    "            contractedGammahatU[k] += rfm.ghatUU[i][j] * rfm.GammahatUDD[k][i][j]\n",
    "\n",
    "# Step 5: Compute Laplacian of u\n",
    "u_laplacian = sp.sympify(0)\n",
    "for i in range(DIM):\n",
    "    # PART 2:\n",
    "    u_laplacian -= contractedGammahatU[i]*uu_dD[i]\n",
    "    for j in range(DIM):\n",
    "        # PART 1:\n",
    "        u_laplacian += rfm.ghatUU[i][j]*uu_dDD[i][j]"
   ]
  },
  {
   "cell_type": "code",
   "execution_count": 46,
   "id": "b5c03e51",
   "metadata": {
    "scrolled": false
   },
   "outputs": [
    {
     "name": "stdout",
     "output_type": "stream",
     "text": [
      "{\n",
      "  /*\n",
      "   * NRPy+ Finite Difference Code Generation, Step 1 of 2: Read from main memory and compute finite difference stencils:\n",
      "   */\n",
      "  const double uu_i0_i1_i2m5 = in_gfs[IDX4S(UUGF, i0,i1,i2-5)];\n",
      "  const double uu_i0_i1_i2m4 = in_gfs[IDX4S(UUGF, i0,i1,i2-4)];\n",
      "  const double uu_i0_i1_i2m3 = in_gfs[IDX4S(UUGF, i0,i1,i2-3)];\n",
      "  const double uu_i0_i1_i2m2 = in_gfs[IDX4S(UUGF, i0,i1,i2-2)];\n",
      "  const double uu_i0_i1_i2m1 = in_gfs[IDX4S(UUGF, i0,i1,i2-1)];\n",
      "  const double uu_i0_i1m5_i2 = in_gfs[IDX4S(UUGF, i0,i1-5,i2)];\n",
      "  const double uu_i0_i1m4_i2 = in_gfs[IDX4S(UUGF, i0,i1-4,i2)];\n",
      "  const double uu_i0_i1m3_i2 = in_gfs[IDX4S(UUGF, i0,i1-3,i2)];\n",
      "  const double uu_i0_i1m2_i2 = in_gfs[IDX4S(UUGF, i0,i1-2,i2)];\n",
      "  const double uu_i0_i1m1_i2 = in_gfs[IDX4S(UUGF, i0,i1-1,i2)];\n",
      "  const double uu_i0m5_i1_i2 = in_gfs[IDX4S(UUGF, i0-5,i1,i2)];\n",
      "  const double uu_i0m4_i1_i2 = in_gfs[IDX4S(UUGF, i0-4,i1,i2)];\n",
      "  const double uu_i0m3_i1_i2 = in_gfs[IDX4S(UUGF, i0-3,i1,i2)];\n",
      "  const double uu_i0m2_i1_i2 = in_gfs[IDX4S(UUGF, i0-2,i1,i2)];\n",
      "  const double uu_i0m1_i1_i2 = in_gfs[IDX4S(UUGF, i0-1,i1,i2)];\n",
      "  const double uu = in_gfs[IDX4S(UUGF, i0,i1,i2)];\n",
      "  const double uu_i0p1_i1_i2 = in_gfs[IDX4S(UUGF, i0+1,i1,i2)];\n",
      "  const double uu_i0p2_i1_i2 = in_gfs[IDX4S(UUGF, i0+2,i1,i2)];\n",
      "  const double uu_i0p3_i1_i2 = in_gfs[IDX4S(UUGF, i0+3,i1,i2)];\n",
      "  const double uu_i0p4_i1_i2 = in_gfs[IDX4S(UUGF, i0+4,i1,i2)];\n",
      "  const double uu_i0p5_i1_i2 = in_gfs[IDX4S(UUGF, i0+5,i1,i2)];\n",
      "  const double uu_i0_i1p1_i2 = in_gfs[IDX4S(UUGF, i0,i1+1,i2)];\n",
      "  const double uu_i0_i1p2_i2 = in_gfs[IDX4S(UUGF, i0,i1+2,i2)];\n",
      "  const double uu_i0_i1p3_i2 = in_gfs[IDX4S(UUGF, i0,i1+3,i2)];\n",
      "  const double uu_i0_i1p4_i2 = in_gfs[IDX4S(UUGF, i0,i1+4,i2)];\n",
      "  const double uu_i0_i1p5_i2 = in_gfs[IDX4S(UUGF, i0,i1+5,i2)];\n",
      "  const double uu_i0_i1_i2p1 = in_gfs[IDX4S(UUGF, i0,i1,i2+1)];\n",
      "  const double uu_i0_i1_i2p2 = in_gfs[IDX4S(UUGF, i0,i1,i2+2)];\n",
      "  const double uu_i0_i1_i2p3 = in_gfs[IDX4S(UUGF, i0,i1,i2+3)];\n",
      "  const double uu_i0_i1_i2p4 = in_gfs[IDX4S(UUGF, i0,i1,i2+4)];\n",
      "  const double uu_i0_i1_i2p5 = in_gfs[IDX4S(UUGF, i0,i1,i2+5)];\n",
      "  const double FDPart1_Rational_5_6 = 5.0/6.0;\n",
      "  const double FDPart1_Rational_5_21 = 5.0/21.0;\n",
      "  const double FDPart1_Rational_5_84 = 5.0/84.0;\n",
      "  const double FDPart1_Rational_5_504 = 5.0/504.0;\n",
      "  const double FDPart1_Rational_1_1260 = 1.0/1260.0;\n",
      "  const double FDPart1_Rational_5269_1800 = 5269.0/1800.0;\n",
      "  const double FDPart1_Rational_5_1008 = 5.0/1008.0;\n",
      "  const double FDPart1_Rational_1_3150 = 1.0/3150.0;\n",
      "  const double FDPart1_Rational_5_3 = 5.0/3.0;\n",
      "  const double FDPart1_Rational_5_126 = 5.0/126.0;\n",
      "  const double FDPart1_0 = -FDPart1_Rational_5269_1800*uu;\n",
      "  const double uu_dD0 = invdx0*(FDPart1_Rational_1_1260*(-uu_i0m5_i1_i2 + uu_i0p5_i1_i2) + FDPart1_Rational_5_21*(uu_i0m2_i1_i2 - uu_i0p2_i1_i2) + FDPart1_Rational_5_504*(uu_i0m4_i1_i2 - uu_i0p4_i1_i2) + FDPart1_Rational_5_6*(-uu_i0m1_i1_i2 + uu_i0p1_i1_i2) + FDPart1_Rational_5_84*(-uu_i0m3_i1_i2 + uu_i0p3_i1_i2));\n",
      "  const double uu_dD1 = invdx1*(FDPart1_Rational_1_1260*(-uu_i0_i1m5_i2 + uu_i0_i1p5_i2) + FDPart1_Rational_5_21*(uu_i0_i1m2_i2 - uu_i0_i1p2_i2) + FDPart1_Rational_5_504*(uu_i0_i1m4_i2 - uu_i0_i1p4_i2) + FDPart1_Rational_5_6*(-uu_i0_i1m1_i2 + uu_i0_i1p1_i2) + FDPart1_Rational_5_84*(-uu_i0_i1m3_i2 + uu_i0_i1p3_i2));\n",
      "  const double uu_dDD00 = ((invdx0)*(invdx0))*(FDPart1_0 + FDPart1_Rational_1_3150*(uu_i0m5_i1_i2 + uu_i0p5_i1_i2) + FDPart1_Rational_5_1008*(-uu_i0m4_i1_i2 - uu_i0p4_i1_i2) + FDPart1_Rational_5_126*(uu_i0m3_i1_i2 + uu_i0p3_i1_i2) + FDPart1_Rational_5_21*(-uu_i0m2_i1_i2 - uu_i0p2_i1_i2) + FDPart1_Rational_5_3*(uu_i0m1_i1_i2 + uu_i0p1_i1_i2));\n",
      "  const double uu_dDD11 = ((invdx1)*(invdx1))*(FDPart1_0 + FDPart1_Rational_1_3150*(uu_i0_i1m5_i2 + uu_i0_i1p5_i2) + FDPart1_Rational_5_1008*(-uu_i0_i1m4_i2 - uu_i0_i1p4_i2) + FDPart1_Rational_5_126*(uu_i0_i1m3_i2 + uu_i0_i1p3_i2) + FDPart1_Rational_5_21*(-uu_i0_i1m2_i2 - uu_i0_i1p2_i2) + FDPart1_Rational_5_3*(uu_i0_i1m1_i2 + uu_i0_i1p1_i2));\n",
      "  const double uu_dDD22 = ((invdx2)*(invdx2))*(FDPart1_0 + FDPart1_Rational_1_3150*(uu_i0_i1_i2m5 + uu_i0_i1_i2p5) + FDPart1_Rational_5_1008*(-uu_i0_i1_i2m4 - uu_i0_i1_i2p4) + FDPart1_Rational_5_126*(uu_i0_i1_i2m3 + uu_i0_i1_i2p3) + FDPart1_Rational_5_21*(-uu_i0_i1_i2m2 - uu_i0_i1_i2p2) + FDPart1_Rational_5_3*(uu_i0_i1_i2m1 + uu_i0_i1_i2p1));\n",
      "  /*\n",
      "   * NRPy+ Finite Difference Code Generation, Step 2 of 2: Evaluate SymPy expressions and write to main memory:\n",
      "   */\n",
      "  const double FDPart3_0 = ((AMAX)*(AMAX));\n",
      "  const double FDPart3_1 = (1.0/(FDPart3_0));\n",
      "  const double FDPart3_2 = (1.0/(SINHWAA));\n",
      "  const double FDPart3_3 = exp(FDPart3_2) - exp(-FDPart3_2);\n",
      "  const double FDPart3_4 = ((FDPart3_3)*(FDPart3_3));\n",
      "  const double FDPart3_6 = FDPart3_2*xx0;\n",
      "  const double FDPart3_7 = exp(FDPart3_6);\n",
      "  const double FDPart3_8 = exp(-FDPart3_6);\n",
      "  const double FDPart3_9 = ((FDPart3_7 - FDPart3_8)*(FDPart3_7 - FDPart3_8));\n",
      "  const double FDPart3_10 = (1.0/(FDPart3_9));\n",
      "  const double FDPart3_11 = ((sin(xx1))*(sin(xx1)));\n",
      "  const double FDPart3_12 = FDPart3_10/FDPart3_11;\n",
      "  const double FDPart3_13 = ((bScale)*(bScale));\n",
      "  const double FDPart3_15 = FDPart3_0*FDPart3_9/FDPart3_4;\n",
      "  const double FDPart3_16 = FDPart3_11*FDPart3_13 + FDPart3_15;\n",
      "  const double FDPart3_17 = (1.0/(FDPart3_16));\n",
      "  const double FDPart3_18 = FDPart3_2*FDPart3_7 + FDPart3_2*FDPart3_8;\n",
      "  const double FDPart3_20 = (FDPart3_13 + FDPart3_15)/((FDPart3_18)*(FDPart3_18));\n",
      "  const double FDPart3_22 = sin(2*xx1);\n",
      "  const double FDPart3_23 = (1.0/((FDPart3_16)*(FDPart3_16)));\n",
      "  const double FDPart3_24 = exp(2*FDPart3_6);\n",
      "  const double FDPart3_25 = FDPart3_24 - 1;\n",
      "  const double FDPart3_27 = 2*FDPart3_2;\n",
      "  const double FDPart3_28 = exp(FDPart3_27);\n",
      "  const double FDPart3_30 = ((FDPart3_28 - 1)*(FDPart3_28 - 1));\n",
      "  const double FDPart3_33 = FDPart3_24 + 1;\n",
      "  const double FDPart3_34 = ((FDPart3_33)*(FDPart3_33));\n",
      "  const double FDPart3_35 = FDPart3_0*FDPart3_28;\n",
      "  const double FDPart3_38 = ((FDPart3_28 - 1)*(FDPart3_28 - 1));\n",
      "  const double FDPart3_39 = (1.0/(FDPart3_38));\n",
      "  const double FDPart3_40 = FDPart3_23*FDPart3_25*FDPart3_33*FDPart3_39;\n",
      "  const double FDPart3_41 = FDPart3_2*exp(-FDPart3_27*(xx0 - 1));\n",
      "  const double FDPart3_42 = FDPart3_1*((FDPart3_3)*(FDPart3_3)*(FDPart3_3)*(FDPart3_3));\n",
      "  const double FDPart3_43 = ((FDPart3_25)*(FDPart3_25))*FDPart3_35;\n",
      "  const double FDPart3_44 = FDPart3_13*FDPart3_24*FDPart3_38 + FDPart3_43;\n",
      "  const double FDPart3_45 = FDPart3_11*FDPart3_13*FDPart3_24*FDPart3_38 + FDPart3_43;\n",
      "  u_laplacian = FDPart3_1*FDPart3_12*FDPart3_4*uu_dDD22 + FDPart3_1*FDPart3_17*FDPart3_20*FDPart3_4*uu_dDD00 + FDPart3_17*uu_dDD11 - uu_dD0*(-FDPart3_10*FDPart3_17*FDPart3_20*FDPart3_25*FDPart3_33*FDPart3_39*FDPart3_41*FDPart3_42 - FDPart3_20*FDPart3_4*FDPart3_40*FDPart3_41 - FDPart3_40*FDPart3_42*((FDPart3_13 + FDPart3_15)*(FDPart3_13 + FDPart3_15))*(FDPart3_0*FDPart3_34*FDPart3_45*exp(FDPart3_27*(xx0 + 2)) - FDPart3_44*(FDPart3_34*FDPart3_35 + FDPart3_45)*exp(FDPart3_27*(xx0 + 1)))*exp(-4*FDPart3_6)/(((FDPart3_18)*(FDPart3_18)*(FDPart3_18)*(FDPart3_18))*((FDPart3_44)*(FDPart3_44))*((SINHWAA)*(SINHWAA)*(SINHWAA)))) - uu_dD1*(-1.0/2.0*FDPart3_12*FDPart3_17*FDPart3_22*((FDPart3_25)*(FDPart3_25))*FDPart3_4*exp(-FDPart3_27*(xx0 - 1))/FDPart3_30 - 1.0/2.0*FDPart3_13*FDPart3_20*FDPart3_22*FDPart3_23*FDPart3_28*FDPart3_34*FDPart3_4/(((SINHWAA)*(SINHWAA))*(FDPart3_13*FDPart3_24*FDPart3_30 + ((FDPart3_25)*(FDPart3_25))*FDPart3_35)) + (1.0/2.0)*FDPart3_13*FDPart3_22*FDPart3_23);\n",
      "}\n"
     ]
    }
   ],
   "source": [
    "# Step 6: Generate C code for Laplacian\n",
    "print(fin.FD_outputC(\"returnstring\",\n",
    "        [lhrh(lhs=\"u_laplacian\",rhs=u_laplacian)],\n",
    "        params=\"CSE_enable=True,enable_SIMD=False,outCverbose=False\") )"
   ]
  },
  {
   "cell_type": "code",
   "execution_count": 47,
   "id": "babde2e0",
   "metadata": {
    "scrolled": false
   },
   "outputs": [
    {
     "name": "stdout",
     "output_type": "stream",
     "text": [
      "{\n",
      "  /*\n",
      "   * NRPy+ Finite Difference Code Generation, Step 1 of 2: Read from main memory and compute finite difference stencils:\n",
      "   */\n",
      "  const REAL_SIMD_ARRAY uu_i0_i1_i2m5 = ReadSIMD(&in_gfs[IDX4S(UUGF, i0,i1,i2-5)]);\n",
      "  const REAL_SIMD_ARRAY uu_i0_i1_i2m4 = ReadSIMD(&in_gfs[IDX4S(UUGF, i0,i1,i2-4)]);\n",
      "  const REAL_SIMD_ARRAY uu_i0_i1_i2m3 = ReadSIMD(&in_gfs[IDX4S(UUGF, i0,i1,i2-3)]);\n",
      "  const REAL_SIMD_ARRAY uu_i0_i1_i2m2 = ReadSIMD(&in_gfs[IDX4S(UUGF, i0,i1,i2-2)]);\n",
      "  const REAL_SIMD_ARRAY uu_i0_i1_i2m1 = ReadSIMD(&in_gfs[IDX4S(UUGF, i0,i1,i2-1)]);\n",
      "  const REAL_SIMD_ARRAY uu_i0_i1m5_i2 = ReadSIMD(&in_gfs[IDX4S(UUGF, i0,i1-5,i2)]);\n",
      "  const REAL_SIMD_ARRAY uu_i0_i1m4_i2 = ReadSIMD(&in_gfs[IDX4S(UUGF, i0,i1-4,i2)]);\n",
      "  const REAL_SIMD_ARRAY uu_i0_i1m3_i2 = ReadSIMD(&in_gfs[IDX4S(UUGF, i0,i1-3,i2)]);\n",
      "  const REAL_SIMD_ARRAY uu_i0_i1m2_i2 = ReadSIMD(&in_gfs[IDX4S(UUGF, i0,i1-2,i2)]);\n",
      "  const REAL_SIMD_ARRAY uu_i0_i1m1_i2 = ReadSIMD(&in_gfs[IDX4S(UUGF, i0,i1-1,i2)]);\n",
      "  const REAL_SIMD_ARRAY uu_i0m5_i1_i2 = ReadSIMD(&in_gfs[IDX4S(UUGF, i0-5,i1,i2)]);\n",
      "  const REAL_SIMD_ARRAY uu_i0m4_i1_i2 = ReadSIMD(&in_gfs[IDX4S(UUGF, i0-4,i1,i2)]);\n",
      "  const REAL_SIMD_ARRAY uu_i0m3_i1_i2 = ReadSIMD(&in_gfs[IDX4S(UUGF, i0-3,i1,i2)]);\n",
      "  const REAL_SIMD_ARRAY uu_i0m2_i1_i2 = ReadSIMD(&in_gfs[IDX4S(UUGF, i0-2,i1,i2)]);\n",
      "  const REAL_SIMD_ARRAY uu_i0m1_i1_i2 = ReadSIMD(&in_gfs[IDX4S(UUGF, i0-1,i1,i2)]);\n",
      "  const REAL_SIMD_ARRAY uu = ReadSIMD(&in_gfs[IDX4S(UUGF, i0,i1,i2)]);\n",
      "  const REAL_SIMD_ARRAY uu_i0p1_i1_i2 = ReadSIMD(&in_gfs[IDX4S(UUGF, i0+1,i1,i2)]);\n",
      "  const REAL_SIMD_ARRAY uu_i0p2_i1_i2 = ReadSIMD(&in_gfs[IDX4S(UUGF, i0+2,i1,i2)]);\n",
      "  const REAL_SIMD_ARRAY uu_i0p3_i1_i2 = ReadSIMD(&in_gfs[IDX4S(UUGF, i0+3,i1,i2)]);\n",
      "  const REAL_SIMD_ARRAY uu_i0p4_i1_i2 = ReadSIMD(&in_gfs[IDX4S(UUGF, i0+4,i1,i2)]);\n",
      "  const REAL_SIMD_ARRAY uu_i0p5_i1_i2 = ReadSIMD(&in_gfs[IDX4S(UUGF, i0+5,i1,i2)]);\n",
      "  const REAL_SIMD_ARRAY uu_i0_i1p1_i2 = ReadSIMD(&in_gfs[IDX4S(UUGF, i0,i1+1,i2)]);\n",
      "  const REAL_SIMD_ARRAY uu_i0_i1p2_i2 = ReadSIMD(&in_gfs[IDX4S(UUGF, i0,i1+2,i2)]);\n",
      "  const REAL_SIMD_ARRAY uu_i0_i1p3_i2 = ReadSIMD(&in_gfs[IDX4S(UUGF, i0,i1+3,i2)]);\n",
      "  const REAL_SIMD_ARRAY uu_i0_i1p4_i2 = ReadSIMD(&in_gfs[IDX4S(UUGF, i0,i1+4,i2)]);\n",
      "  const REAL_SIMD_ARRAY uu_i0_i1p5_i2 = ReadSIMD(&in_gfs[IDX4S(UUGF, i0,i1+5,i2)]);\n",
      "  const REAL_SIMD_ARRAY uu_i0_i1_i2p1 = ReadSIMD(&in_gfs[IDX4S(UUGF, i0,i1,i2+1)]);\n",
      "  const REAL_SIMD_ARRAY uu_i0_i1_i2p2 = ReadSIMD(&in_gfs[IDX4S(UUGF, i0,i1,i2+2)]);\n",
      "  const REAL_SIMD_ARRAY uu_i0_i1_i2p3 = ReadSIMD(&in_gfs[IDX4S(UUGF, i0,i1,i2+3)]);\n",
      "  const REAL_SIMD_ARRAY uu_i0_i1_i2p4 = ReadSIMD(&in_gfs[IDX4S(UUGF, i0,i1,i2+4)]);\n",
      "  const REAL_SIMD_ARRAY uu_i0_i1_i2p5 = ReadSIMD(&in_gfs[IDX4S(UUGF, i0,i1,i2+5)]);\n",
      "  const double tmpFDPart1_NegativeOne_ = -1.0;\n",
      "  const REAL_SIMD_ARRAY FDPart1_NegativeOne_ = ConstSIMD(tmpFDPart1_NegativeOne_);\n",
      "  const double tmpFDPart1_Rational_1_1260 = 1.0/1260.0;\n",
      "  const REAL_SIMD_ARRAY FDPart1_Rational_1_1260 = ConstSIMD(tmpFDPart1_Rational_1_1260);\n",
      "  const double tmpFDPart1_Rational_1_3150 = 1.0/3150.0;\n",
      "  const REAL_SIMD_ARRAY FDPart1_Rational_1_3150 = ConstSIMD(tmpFDPart1_Rational_1_3150);\n",
      "  const double tmpFDPart1_Rational_5269_1800 = 5269.0/1800.0;\n",
      "  const REAL_SIMD_ARRAY FDPart1_Rational_5269_1800 = ConstSIMD(tmpFDPart1_Rational_5269_1800);\n",
      "  const double tmpFDPart1_Rational_5_1008 = 5.0/1008.0;\n",
      "  const REAL_SIMD_ARRAY FDPart1_Rational_5_1008 = ConstSIMD(tmpFDPart1_Rational_5_1008);\n",
      "  const double tmpFDPart1_Rational_5_126 = 5.0/126.0;\n",
      "  const REAL_SIMD_ARRAY FDPart1_Rational_5_126 = ConstSIMD(tmpFDPart1_Rational_5_126);\n",
      "  const double tmpFDPart1_Rational_5_21 = 5.0/21.0;\n",
      "  const REAL_SIMD_ARRAY FDPart1_Rational_5_21 = ConstSIMD(tmpFDPart1_Rational_5_21);\n",
      "  const double tmpFDPart1_Rational_5_3 = 5.0/3.0;\n",
      "  const REAL_SIMD_ARRAY FDPart1_Rational_5_3 = ConstSIMD(tmpFDPart1_Rational_5_3);\n",
      "  const double tmpFDPart1_Rational_5_504 = 5.0/504.0;\n",
      "  const REAL_SIMD_ARRAY FDPart1_Rational_5_504 = ConstSIMD(tmpFDPart1_Rational_5_504);\n",
      "  const double tmpFDPart1_Rational_5_6 = 5.0/6.0;\n",
      "  const REAL_SIMD_ARRAY FDPart1_Rational_5_6 = ConstSIMD(tmpFDPart1_Rational_5_6);\n",
      "  const double tmpFDPart1_Rational_5_84 = 5.0/84.0;\n",
      "  const REAL_SIMD_ARRAY FDPart1_Rational_5_84 = ConstSIMD(tmpFDPart1_Rational_5_84);\n",
      "  const REAL_SIMD_ARRAY FDPart1_0 = MulSIMD(FDPart1_Rational_5269_1800, uu);\n",
      "  const REAL_SIMD_ARRAY uu_dD0 = MulSIMD(invdx0, FusedMulAddSIMD(FDPart1_Rational_5_504, SubSIMD(uu_i0m4_i1_i2, uu_i0p4_i1_i2), FusedMulAddSIMD(FDPart1_Rational_5_6, SubSIMD(uu_i0p1_i1_i2, uu_i0m1_i1_i2), FusedMulAddSIMD(FDPart1_Rational_5_84, SubSIMD(uu_i0p3_i1_i2, uu_i0m3_i1_i2), FusedMulAddSIMD(FDPart1_Rational_1_1260, SubSIMD(uu_i0p5_i1_i2, uu_i0m5_i1_i2), MulSIMD(FDPart1_Rational_5_21, SubSIMD(uu_i0m2_i1_i2, uu_i0p2_i1_i2)))))));\n",
      "  const REAL_SIMD_ARRAY uu_dD1 = MulSIMD(invdx1, FusedMulAddSIMD(FDPart1_Rational_5_504, SubSIMD(uu_i0_i1m4_i2, uu_i0_i1p4_i2), FusedMulAddSIMD(FDPart1_Rational_5_6, SubSIMD(uu_i0_i1p1_i2, uu_i0_i1m1_i2), FusedMulAddSIMD(FDPart1_Rational_5_84, SubSIMD(uu_i0_i1p3_i2, uu_i0_i1m3_i2), FusedMulAddSIMD(FDPart1_Rational_1_1260, SubSIMD(uu_i0_i1p5_i2, uu_i0_i1m5_i2), MulSIMD(FDPart1_Rational_5_21, SubSIMD(uu_i0_i1m2_i2, uu_i0_i1p2_i2)))))));\n",
      "  const REAL_SIMD_ARRAY uu_dDD00 = MulSIMD(MulSIMD(invdx0, invdx0), FusedMulAddSIMD(FDPart1_Rational_5_126, AddSIMD(uu_i0m3_i1_i2, uu_i0p3_i1_i2), FusedMulAddSIMD(FDPart1_Rational_5_3, AddSIMD(uu_i0m1_i1_i2, uu_i0p1_i1_i2), FusedMulSubSIMD(FDPart1_Rational_1_3150, AddSIMD(uu_i0m5_i1_i2, uu_i0p5_i1_i2), FusedMulAddSIMD(FDPart1_Rational_5_1008, AddSIMD(uu_i0m4_i1_i2, uu_i0p4_i1_i2), FusedMulAddSIMD(FDPart1_Rational_5_21, AddSIMD(uu_i0m2_i1_i2, uu_i0p2_i1_i2), FDPart1_0))))));\n",
      "  const REAL_SIMD_ARRAY uu_dDD11 = MulSIMD(MulSIMD(invdx1, invdx1), FusedMulAddSIMD(FDPart1_Rational_5_126, AddSIMD(uu_i0_i1m3_i2, uu_i0_i1p3_i2), FusedMulAddSIMD(FDPart1_Rational_5_3, AddSIMD(uu_i0_i1m1_i2, uu_i0_i1p1_i2), FusedMulSubSIMD(FDPart1_Rational_1_3150, AddSIMD(uu_i0_i1m5_i2, uu_i0_i1p5_i2), FusedMulAddSIMD(FDPart1_Rational_5_1008, AddSIMD(uu_i0_i1m4_i2, uu_i0_i1p4_i2), FusedMulAddSIMD(FDPart1_Rational_5_21, AddSIMD(uu_i0_i1m2_i2, uu_i0_i1p2_i2), FDPart1_0))))));\n",
      "  const REAL_SIMD_ARRAY uu_dDD22 = MulSIMD(MulSIMD(invdx2, invdx2), FusedMulAddSIMD(FDPart1_Rational_5_126, AddSIMD(uu_i0_i1_i2m3, uu_i0_i1_i2p3), FusedMulAddSIMD(FDPart1_Rational_5_3, AddSIMD(uu_i0_i1_i2m1, uu_i0_i1_i2p1), FusedMulSubSIMD(FDPart1_Rational_1_3150, AddSIMD(uu_i0_i1_i2m5, uu_i0_i1_i2p5), FusedMulAddSIMD(FDPart1_Rational_5_1008, AddSIMD(uu_i0_i1_i2m4, uu_i0_i1_i2p4), FusedMulAddSIMD(FDPart1_Rational_5_21, AddSIMD(uu_i0_i1_i2m2, uu_i0_i1_i2p2), FDPart1_0))))));\n",
      "  /*\n",
      "   * NRPy+ Finite Difference Code Generation, Step 2 of 2: Evaluate SymPy expressions and write to main memory:\n",
      "   */\n",
      "  const double tmpFDPart3_Integer_1 = 1.0;\n",
      "  const REAL_SIMD_ARRAY FDPart3_Integer_1 = ConstSIMD(tmpFDPart3_Integer_1);\n",
      "  const double tmpFDPart3_Integer_2 = 2.0;\n",
      "  const REAL_SIMD_ARRAY FDPart3_Integer_2 = ConstSIMD(tmpFDPart3_Integer_2);\n",
      "  const double tmpFDPart3_Integer_4 = 4.0;\n",
      "  const REAL_SIMD_ARRAY FDPart3_Integer_4 = ConstSIMD(tmpFDPart3_Integer_4);\n",
      "  const double tmpFDPart3_NegativeOne_ = -1.0;\n",
      "  const REAL_SIMD_ARRAY FDPart3_NegativeOne_ = ConstSIMD(tmpFDPart3_NegativeOne_);\n",
      "  const double tmpFDPart3_Rational_1_2 = 1.0/2.0;\n",
      "  const REAL_SIMD_ARRAY FDPart3_Rational_1_2 = ConstSIMD(tmpFDPart3_Rational_1_2);\n",
      "  const REAL_SIMD_ARRAY FDPart3_0 = MulSIMD(AMAX, AMAX);\n",
      "  const REAL_SIMD_ARRAY FDPart3_1 = DivSIMD(FDPart3_Integer_1, FDPart3_0);\n",
      "  const REAL_SIMD_ARRAY FDPart3_2 = DivSIMD(FDPart3_Integer_1, SINHWAA);\n",
      "  const REAL_SIMD_ARRAY FDPart3_4 = SubSIMD(ExpSIMD(FDPart3_2), ExpSIMD(MulSIMD(FDPart3_2, FDPart3_NegativeOne_)));\n",
      "  const REAL_SIMD_ARRAY FDPart3_5 = MulSIMD(FDPart3_4, FDPart3_4);\n",
      "  const REAL_SIMD_ARRAY FDPart3_8 = ExpSIMD(MulSIMD(FDPart3_2, xx0));\n",
      "  const REAL_SIMD_ARRAY FDPart3_9 = ExpSIMD(MulSIMD(FDPart3_2, MulSIMD(FDPart3_NegativeOne_, xx0)));\n",
      "  const REAL_SIMD_ARRAY FDPart3_10 = MulSIMD(SubSIMD(FDPart3_8, FDPart3_9), SubSIMD(FDPart3_8, FDPart3_9));\n",
      "  const REAL_SIMD_ARRAY FDPart3_11 = DivSIMD(FDPart3_Integer_1, FDPart3_10);\n",
      "  const REAL_SIMD_ARRAY FDPart3_12 = MulSIMD(SinSIMD(xx1), SinSIMD(xx1));\n",
      "  const REAL_SIMD_ARRAY FDPart3_13 = DivSIMD(FDPart3_Integer_1, FDPart3_12);\n",
      "  const REAL_SIMD_ARRAY FDPart3_14 = MulSIMD(bScale, bScale);\n",
      "  const REAL_SIMD_ARRAY FDPart3_16 = MulSIMD(FDPart3_0, DivSIMD(FDPart3_10, FDPart3_5));\n",
      "  const REAL_SIMD_ARRAY FDPart3_17 = FusedMulAddSIMD(FDPart3_12, FDPart3_14, FDPart3_16);\n",
      "  const REAL_SIMD_ARRAY FDPart3_18 = DivSIMD(FDPart3_Integer_1, FDPart3_17);\n",
      "  const REAL_SIMD_ARRAY FDPart3_19 = FusedMulAddSIMD(FDPart3_2, FDPart3_8, MulSIMD(FDPart3_2, FDPart3_9));\n",
      "  const REAL_SIMD_ARRAY FDPart3_20 = DivSIMD(FDPart3_Integer_1, MulSIMD(FDPart3_19, FDPart3_19));\n",
      "  const REAL_SIMD_ARRAY FDPart3_21 = AddSIMD(FDPart3_14, FDPart3_16);\n",
      "  const REAL_SIMD_ARRAY FDPart3_23 = MulSIMD(FDPart3_18, MulSIMD(FDPart3_20, FDPart3_21));\n",
      "  const REAL_SIMD_ARRAY FDPart3_24 = DivSIMD(FDPart3_Integer_1, MulSIMD(FDPart3_17, FDPart3_17));\n",
      "  const REAL_SIMD_ARRAY FDPart3_25 = SinSIMD(MulSIMD(FDPart3_Integer_2, xx1));\n",
      "  const REAL_SIMD_ARRAY FDPart3_27 = MulSIMD(FDPart3_2, FDPart3_Integer_2);\n",
      "  const REAL_SIMD_ARRAY FDPart3_28 = ExpSIMD(FDPart3_27);\n",
      "  const REAL_SIMD_ARRAY FDPart3_29 = MulSIMD(SubSIMD(FDPart3_Integer_1, FDPart3_28), SubSIMD(FDPart3_Integer_1, FDPart3_28));\n",
      "  const REAL_SIMD_ARRAY FDPart3_30 = ExpSIMD(MulSIMD(FDPart3_2, MulSIMD(FDPart3_Integer_2, xx0)));\n",
      "  const REAL_SIMD_ARRAY FDPart3_31 = MulSIMD(SubSIMD(FDPart3_Integer_1, FDPart3_30), SubSIMD(FDPart3_Integer_1, FDPart3_30));\n",
      "  const REAL_SIMD_ARRAY FDPart3_32 = AddSIMD(FDPart3_30, FDPart3_Integer_1);\n",
      "  const REAL_SIMD_ARRAY FDPart3_33 = MulSIMD(FDPart3_32, FDPart3_32);\n",
      "  const REAL_SIMD_ARRAY FDPart3_34 = MulSIMD(FDPart3_0, FDPart3_28);\n",
      "  const REAL_SIMD_ARRAY FDPart3_36 = MulSIMD(AddSIMD(FDPart3_28, FDPart3_NegativeOne_), AddSIMD(FDPart3_28, FDPart3_NegativeOne_));\n",
      "  const REAL_SIMD_ARRAY FDPart3_37 = DivSIMD(FDPart3_Integer_1, FDPart3_36);\n",
      "  const REAL_SIMD_ARRAY FDPart3_38 = AddSIMD(FDPart3_30, FDPart3_NegativeOne_);\n",
      "  const REAL_SIMD_ARRAY FDPart3_39 = MulSIMD(MulSIMD(FDPart3_24, FDPart3_32), MulSIMD(FDPart3_37, FDPart3_38));\n",
      "  const REAL_SIMD_ARRAY FDPart3_40 = MulSIMD(FDPart3_2, MulSIMD(FDPart3_NegativeOne_, ExpSIMD(MulSIMD(MulSIMD(FDPart3_2, FDPart3_Integer_2), MulSIMD(FDPart3_NegativeOne_, AddSIMD(FDPart3_NegativeOne_, xx0))))));\n",
      "  const REAL_SIMD_ARRAY FDPart3_41 = MulSIMD(FDPart3_1, MulSIMD(MulSIMD(MulSIMD(FDPart3_4, FDPart3_4), FDPart3_4), FDPart3_4));\n",
      "  const REAL_SIMD_ARRAY FDPart3_42 = MulSIMD(FDPart3_34, MulSIMD(FDPart3_38, FDPart3_38));\n",
      "  const REAL_SIMD_ARRAY FDPart3_43 = FusedMulAddSIMD(FDPart3_14, MulSIMD(FDPart3_30, FDPart3_36), FDPart3_42);\n",
      "  const REAL_SIMD_ARRAY FDPart3_44 = FusedMulAddSIMD(MulSIMD(FDPart3_12, FDPart3_14), MulSIMD(FDPart3_30, FDPart3_36), FDPart3_42);\n",
      "  const REAL_SIMD_ARRAY __RHS_exp_0 = SubSIMD(FusedMulAddSIMD(MulSIMD(FDPart3_1, FDPart3_23), MulSIMD(FDPart3_5, uu_dDD00), FusedMulAddSIMD(FDPart3_13, MulSIMD(MulSIMD(FDPart3_1, FDPart3_11), MulSIMD(FDPart3_5, uu_dDD22)), FusedMulSubSIMD(FDPart3_18, uu_dDD11, MulSIMD(uu_dD0, FusedMulAddSIMD(FDPart3_38, MulSIMD(MulSIMD(FDPart3_32, FDPart3_37), MulSIMD(MulSIMD(FDPart3_11, FDPart3_23), MulSIMD(FDPart3_40, FDPart3_41))), FusedMulSubSIMD(FDPart3_39, MulSIMD(MulSIMD(FDPart3_20, FDPart3_21), MulSIMD(FDPart3_40, FDPart3_5)), MulSIMD(DivSIMD(DivSIMD(FDPart3_Integer_1, MulSIMD(MulSIMD(MulSIMD(FDPart3_19, FDPart3_19), FDPart3_19), FDPart3_19)), MulSIMD(MulSIMD(SINHWAA, SINHWAA), SINHWAA)), MulSIMD(DivSIMD(FusedMulSubSIMD(MulSIMD(FDPart3_0, FDPart3_33), MulSIMD(FDPart3_44, ExpSIMD(MulSIMD(FDPart3_27, AddSIMD(FDPart3_Integer_2, xx0)))), MulSIMD(FDPart3_43, MulSIMD(FusedMulAddSIMD(FDPart3_33, FDPart3_34, FDPart3_44), ExpSIMD(MulSIMD(FDPart3_27, AddSIMD(FDPart3_Integer_1, xx0)))))), MulSIMD(FDPart3_43, FDPart3_43)), MulSIMD(MulSIMD(FDPart3_39, FDPart3_41), MulSIMD(ExpSIMD(MulSIMD(MulSIMD(FDPart3_2, FDPart3_Integer_4), MulSIMD(FDPart3_NegativeOne_, xx0))), MulSIMD(FDPart3_21, FDPart3_21))))))))))), MulSIMD(uu_dD1, NegFusedMulAddSIMD(FDPart3_Rational_1_2, MulSIMD(MulSIMD(FDPart3_33, FDPart3_5), MulSIMD(MulSIMD(FDPart3_25, FDPart3_28), MulSIMD(MulSIMD(FDPart3_21, FDPart3_24), MulSIMD(MulSIMD(FDPart3_14, FDPart3_20), DivSIMD(DivSIMD(FDPart3_Integer_1, FusedMulAddSIMD(FDPart3_31, FDPart3_34, MulSIMD(FDPart3_14, MulSIMD(FDPart3_29, FDPart3_30)))), MulSIMD(SINHWAA, SINHWAA)))))), FusedMulSubSIMD(MulSIMD(FDPart3_14, FDPart3_24), MulSIMD(FDPart3_25, FDPart3_Rational_1_2), MulSIMD(FDPart3_Rational_1_2, MulSIMD(MulSIMD(FDPart3_31, FDPart3_5), MulSIMD(MulSIMD(FDPart3_18, FDPart3_25), MulSIMD(MulSIMD(FDPart3_11, FDPart3_13), DivSIMD(ExpSIMD(MulSIMD(FDPart3_27, SubSIMD(FDPart3_Integer_1, xx0))), FDPart3_29)))))))));\n",
      "  WriteSIMD(&u_laplacian, __RHS_exp_0);\n",
      "}\n"
     ]
    }
   ],
   "source": [
    "# Step 7: Generate C code for Laplacian with SIMD compiler extrinsics\n",
    "print(fin.FD_outputC(\"returnstring\",\n",
    "        [lhrh(lhs=\"u_laplacian\",rhs=u_laplacian)],\n",
    "        params=\"CSE_enable=True,enable_SIMD=True,outCverbose=False\") )"
   ]
  },
  {
   "cell_type": "markdown",
   "id": "accurate-dominant",
   "metadata": {},
   "source": [
    "<a id='latex_pdf_output'></a>\n",
    "\n",
    "# Step 6: Output this notebook to $\\LaTeX$-formatted PDF file \\[Back to [top](#toc)\\]\n",
    "$$\\label{latex_pdf_output}$$\n",
    "\n",
    "The following code cell converts this Jupyter notebook into a proper, clickable $\\LaTeX$-formatted PDF file. After the cell is successfully run, the generated PDF may be found in the root NRPy+ tutorial directory, with filename\n",
    "[Tutorial-A-survey-of-some-NRPy-features.pdf](Tutorial-A-survey-of-some-NRPy-features.pdf). (Note that clicking on this link may not work; you may need to open the PDF file through another means.)"
   ]
  },
  {
   "cell_type": "code",
   "execution_count": 48,
   "id": "congressional-postage",
   "metadata": {},
   "outputs": [],
   "source": [
    "# Uncomment the following lines to generate a pdf version of this notebook (currently incompatible with binder)\n",
    "# import cmdline_helper as cmd    # NRPy+: Multi-platform Python command-line interface\n",
    "# cmd.output_Jupyter_notebook_to_LaTeXed_PDF(\"Tutorial-A-survey-of-some-NRPy-features\")"
   ]
  }
 ],
 "metadata": {
  "kernelspec": {
   "display_name": "Python 3 (ipykernel)",
   "language": "python",
   "name": "python3"
  },
  "language_info": {
   "codemirror_mode": {
    "name": "ipython",
    "version": 3
   },
   "file_extension": ".py",
   "mimetype": "text/x-python",
   "name": "python",
   "nbconvert_exporter": "python",
   "pygments_lexer": "ipython3",
   "version": "3.7.13"
  }
 },
 "nbformat": 4,
 "nbformat_minor": 5
}
